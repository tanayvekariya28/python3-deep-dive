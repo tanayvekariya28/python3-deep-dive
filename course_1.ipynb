{
 "cells": [
  {
   "cell_type": "code",
   "execution_count": 260,
   "metadata": {},
   "outputs": [
    {
     "data": {
      "text/plain": [
       "<function print>"
      ]
     },
     "execution_count": 260,
     "metadata": {},
     "output_type": "execute_result"
    }
   ],
   "source": [
    "print"
   ]
  },
  {
   "cell_type": "code",
   "execution_count": null,
   "metadata": {},
   "outputs": [],
   "source": []
  },
  {
   "cell_type": "code",
   "execution_count": 261,
   "metadata": {},
   "outputs": [],
   "source": [
    "my_var=10"
   ]
  },
  {
   "cell_type": "code",
   "execution_count": 262,
   "metadata": {},
   "outputs": [
    {
     "name": "stdout",
     "output_type": "stream",
     "text": [
      "10\n"
     ]
    }
   ],
   "source": [
    "print(my_var)"
   ]
  },
  {
   "cell_type": "code",
   "execution_count": 263,
   "metadata": {},
   "outputs": [
    {
     "name": "stdout",
     "output_type": "stream",
     "text": [
      "4302809680\n"
     ]
    }
   ],
   "source": [
    "print(id(my_var))"
   ]
  },
  {
   "cell_type": "code",
   "execution_count": 264,
   "metadata": {},
   "outputs": [
    {
     "name": "stdout",
     "output_type": "stream",
     "text": [
      "0x10077aa50\n"
     ]
    }
   ],
   "source": [
    "print(hex(id(my_var)))"
   ]
  },
  {
   "cell_type": "code",
   "execution_count": 265,
   "metadata": {},
   "outputs": [],
   "source": [
    "import sys\n"
   ]
  },
  {
   "cell_type": "code",
   "execution_count": 266,
   "metadata": {},
   "outputs": [],
   "source": [
    "a = [1,2,3]"
   ]
  },
  {
   "cell_type": "code",
   "execution_count": 267,
   "metadata": {},
   "outputs": [
    {
     "data": {
      "text/plain": [
       "4435233536"
      ]
     },
     "execution_count": 267,
     "metadata": {},
     "output_type": "execute_result"
    }
   ],
   "source": [
    "id(a)"
   ]
  },
  {
   "cell_type": "code",
   "execution_count": 268,
   "metadata": {},
   "outputs": [
    {
     "data": {
      "text/plain": [
       "2"
      ]
     },
     "execution_count": 268,
     "metadata": {},
     "output_type": "execute_result"
    }
   ],
   "source": [
    "sys.getrefcount(a)"
   ]
  },
  {
   "cell_type": "code",
   "execution_count": 269,
   "metadata": {},
   "outputs": [],
   "source": [
    "import ctypes\n",
    "import gc"
   ]
  },
  {
   "cell_type": "code",
   "execution_count": 270,
   "metadata": {},
   "outputs": [
    {
     "name": "stdout",
     "output_type": "stream",
     "text": [
      "1\n"
     ]
    }
   ],
   "source": [
    "print(ctypes.c_long.from_address(id(a)).value)"
   ]
  },
  {
   "cell_type": "markdown",
   "metadata": {},
   "source": [
    "Circular references are created when object1 points object2 and object2 points object1, both of them are not deleted by **python memory manager**"
   ]
  },
  {
   "cell_type": "markdown",
   "metadata": {},
   "source": [
    "**Garbage collector** identifies memory leaks"
   ]
  },
  {
   "cell_type": "code",
   "execution_count": 271,
   "metadata": {},
   "outputs": [],
   "source": [
    "def ref_count(address):\n",
    "    return ctypes.c_long.from_address(address).value\n",
    "\n",
    "def object_by_id(object_id):\n",
    "    for obj in gc.get_objects():\n",
    "        if id(obj) == object_id:\n",
    "            return \"Object exists\"\n",
    "    return \"Not Found\"    \n",
    "    "
   ]
  },
  {
   "cell_type": "code",
   "execution_count": 272,
   "metadata": {},
   "outputs": [],
   "source": [
    "class A:\n",
    "    def __init__(self):\n",
    "        self.b = B(self)\n",
    "        print('A: self: {0} , b: {1}'.format(hex(id(self)), hex(id(self.b))))"
   ]
  },
  {
   "cell_type": "code",
   "execution_count": 273,
   "metadata": {},
   "outputs": [],
   "source": [
    "class B:\n",
    "    def __init__(self,a):\n",
    "        self.a = a\n",
    "        print('B: self: {0}, a: {1}'.format(hex(id(self)), hex(id(self.a))))"
   ]
  },
  {
   "cell_type": "code",
   "execution_count": 274,
   "metadata": {},
   "outputs": [],
   "source": [
    "gc.disable()\n"
   ]
  },
  {
   "cell_type": "code",
   "execution_count": 275,
   "metadata": {},
   "outputs": [
    {
     "name": "stdout",
     "output_type": "stream",
     "text": [
      "B: self: 0x1080f39a0, a: 0x1080f39d0\n",
      "A: self: 0x1080f39d0 , b: 0x1080f39a0\n"
     ]
    }
   ],
   "source": [
    "my_var = A()"
   ]
  },
  {
   "cell_type": "code",
   "execution_count": 276,
   "metadata": {},
   "outputs": [],
   "source": [
    "a_id = id(my_var)\n",
    "b_id = id(my_var.b)"
   ]
  },
  {
   "cell_type": "code",
   "execution_count": 277,
   "metadata": {},
   "outputs": [
    {
     "name": "stdout",
     "output_type": "stream",
     "text": [
      "0x1080f39d0\n",
      "0x1080f39a0\n"
     ]
    }
   ],
   "source": [
    "print(hex(a_id))\n",
    "print(hex(b_id))"
   ]
  },
  {
   "cell_type": "code",
   "execution_count": 278,
   "metadata": {},
   "outputs": [
    {
     "data": {
      "text/plain": [
       "2"
      ]
     },
     "execution_count": 278,
     "metadata": {},
     "output_type": "execute_result"
    }
   ],
   "source": [
    "ref_count(a_id)"
   ]
  },
  {
   "cell_type": "code",
   "execution_count": 279,
   "metadata": {},
   "outputs": [
    {
     "data": {
      "text/plain": [
       "1"
      ]
     },
     "execution_count": 279,
     "metadata": {},
     "output_type": "execute_result"
    }
   ],
   "source": [
    "ref_count(b_id)\n"
   ]
  },
  {
   "cell_type": "code",
   "execution_count": 280,
   "metadata": {},
   "outputs": [],
   "source": [
    "my_var = None"
   ]
  },
  {
   "cell_type": "code",
   "execution_count": 281,
   "metadata": {},
   "outputs": [
    {
     "data": {
      "text/plain": [
       "1"
      ]
     },
     "execution_count": 281,
     "metadata": {},
     "output_type": "execute_result"
    }
   ],
   "source": [
    "ref_count(a_id)"
   ]
  },
  {
   "cell_type": "code",
   "execution_count": 282,
   "metadata": {},
   "outputs": [
    {
     "data": {
      "text/plain": [
       "1"
      ]
     },
     "execution_count": 282,
     "metadata": {},
     "output_type": "execute_result"
    }
   ],
   "source": [
    "ref_count(b_id)"
   ]
  },
  {
   "cell_type": "code",
   "execution_count": 283,
   "metadata": {},
   "outputs": [
    {
     "data": {
      "text/plain": [
       "'Object exists'"
      ]
     },
     "execution_count": 283,
     "metadata": {},
     "output_type": "execute_result"
    }
   ],
   "source": [
    "object_by_id(a_id)"
   ]
  },
  {
   "cell_type": "code",
   "execution_count": 284,
   "metadata": {},
   "outputs": [
    {
     "data": {
      "text/plain": [
       "'Object exists'"
      ]
     },
     "execution_count": 284,
     "metadata": {},
     "output_type": "execute_result"
    }
   ],
   "source": [
    "object_by_id(b_id)"
   ]
  },
  {
   "cell_type": "code",
   "execution_count": 285,
   "metadata": {},
   "outputs": [
    {
     "data": {
      "text/plain": [
       "6773"
      ]
     },
     "execution_count": 285,
     "metadata": {},
     "output_type": "execute_result"
    }
   ],
   "source": [
    "gc.collect()"
   ]
  },
  {
   "cell_type": "code",
   "execution_count": 286,
   "metadata": {},
   "outputs": [
    {
     "data": {
      "text/plain": [
       "'Not Found'"
      ]
     },
     "execution_count": 286,
     "metadata": {},
     "output_type": "execute_result"
    }
   ],
   "source": [
    "object_by_id(a_id)"
   ]
  },
  {
   "cell_type": "code",
   "execution_count": 287,
   "metadata": {},
   "outputs": [
    {
     "data": {
      "text/plain": [
       "'Not Found'"
      ]
     },
     "execution_count": 287,
     "metadata": {},
     "output_type": "execute_result"
    }
   ],
   "source": [
    "object_by_id(b_id)"
   ]
  },
  {
   "cell_type": "code",
   "execution_count": 288,
   "metadata": {},
   "outputs": [],
   "source": [
    " a = 'hello'"
   ]
  },
  {
   "cell_type": "code",
   "execution_count": 289,
   "metadata": {},
   "outputs": [
    {
     "data": {
      "text/plain": [
       "str"
      ]
     },
     "execution_count": 289,
     "metadata": {},
     "output_type": "execute_result"
    }
   ],
   "source": [
    "type(a)"
   ]
  },
  {
   "cell_type": "code",
   "execution_count": 290,
   "metadata": {},
   "outputs": [],
   "source": [
    "a=107758"
   ]
  },
  {
   "cell_type": "code",
   "execution_count": 291,
   "metadata": {},
   "outputs": [
    {
     "data": {
      "text/plain": [
       "int"
      ]
     },
     "execution_count": 291,
     "metadata": {},
     "output_type": "execute_result"
    }
   ],
   "source": [
    "type(a)"
   ]
  },
  {
   "cell_type": "code",
   "execution_count": 292,
   "metadata": {},
   "outputs": [],
   "source": [
    "a = lambda x:x**4"
   ]
  },
  {
   "cell_type": "code",
   "execution_count": 293,
   "metadata": {},
   "outputs": [
    {
     "data": {
      "text/plain": [
       "16"
      ]
     },
     "execution_count": 293,
     "metadata": {},
     "output_type": "execute_result"
    }
   ],
   "source": [
    "a(2)"
   ]
  },
  {
   "cell_type": "code",
   "execution_count": 294,
   "metadata": {},
   "outputs": [
    {
     "data": {
      "text/plain": [
       "function"
      ]
     },
     "execution_count": 294,
     "metadata": {},
     "output_type": "execute_result"
    }
   ],
   "source": [
    "type(a)"
   ]
  },
  {
   "cell_type": "code",
   "execution_count": 295,
   "metadata": {},
   "outputs": [],
   "source": [
    "a=10"
   ]
  },
  {
   "cell_type": "code",
   "execution_count": 296,
   "metadata": {},
   "outputs": [
    {
     "data": {
      "text/plain": [
       "4302809680"
      ]
     },
     "execution_count": 296,
     "metadata": {},
     "output_type": "execute_result"
    }
   ],
   "source": [
    "id(a)"
   ]
  },
  {
   "cell_type": "code",
   "execution_count": 297,
   "metadata": {},
   "outputs": [],
   "source": [
    "a=15"
   ]
  },
  {
   "cell_type": "code",
   "execution_count": 298,
   "metadata": {},
   "outputs": [
    {
     "data": {
      "text/plain": [
       "4302809840"
      ]
     },
     "execution_count": 298,
     "metadata": {},
     "output_type": "execute_result"
    }
   ],
   "source": [
    "id(a)"
   ]
  },
  {
   "cell_type": "code",
   "execution_count": 299,
   "metadata": {},
   "outputs": [
    {
     "data": {
      "text/plain": [
       "4302809840"
      ]
     },
     "execution_count": 299,
     "metadata": {},
     "output_type": "execute_result"
    }
   ],
   "source": [
    "b=15\n",
    "id(b)"
   ]
  },
  {
   "cell_type": "markdown",
   "metadata": {},
   "source": [
    "Mutable and immutable objects\n",
    "\n",
    "Numbers, strings, tuples, Frozen sets, user defined classes are immutable\n",
    "Lists, sets, dictionary, user defined classes are mutable"
   ]
  },
  {
   "cell_type": "code",
   "execution_count": 300,
   "metadata": {},
   "outputs": [],
   "source": [
    "def process(s):\n",
    "    print('Initial S # = {0}'.format(id(s)))\n",
    "    s = s + ' world'\n",
    "    print('Final S # = {0}'.format(id(s)))"
   ]
  },
  {
   "cell_type": "code",
   "execution_count": 301,
   "metadata": {},
   "outputs": [
    {
     "name": "stdout",
     "output_type": "stream",
     "text": [
      "my_var # = 4354580528\n"
     ]
    }
   ],
   "source": [
    "my_var = 'hello'\n",
    "print('my_var # = {0}'.format(id(my_var)))"
   ]
  },
  {
   "cell_type": "code",
   "execution_count": 302,
   "metadata": {},
   "outputs": [
    {
     "name": "stdout",
     "output_type": "stream",
     "text": [
      "Initial S # = 4354580528\n",
      "Final S # = 4435166704\n"
     ]
    }
   ],
   "source": [
    "process(my_var)"
   ]
  },
  {
   "cell_type": "code",
   "execution_count": 303,
   "metadata": {},
   "outputs": [
    {
     "data": {
      "text/plain": [
       "'hello'"
      ]
     },
     "execution_count": 303,
     "metadata": {},
     "output_type": "execute_result"
    }
   ],
   "source": [
    "my_var"
   ]
  },
  {
   "cell_type": "code",
   "execution_count": 304,
   "metadata": {},
   "outputs": [
    {
     "data": {
      "text/plain": [
       "4354580528"
      ]
     },
     "execution_count": 304,
     "metadata": {},
     "output_type": "execute_result"
    }
   ],
   "source": [
    "id(my_var)"
   ]
  },
  {
   "cell_type": "code",
   "execution_count": 305,
   "metadata": {},
   "outputs": [],
   "source": [
    "def modify_lst(lst):\n",
    "    print('Initial lst # = {0}'.format(id(lst)))\n",
    "    lst.append(100)\n",
    "    print('Final lst # = {0}'.format(id(lst)))"
   ]
  },
  {
   "cell_type": "code",
   "execution_count": 306,
   "metadata": {},
   "outputs": [
    {
     "data": {
      "text/plain": [
       "4433062848"
      ]
     },
     "execution_count": 306,
     "metadata": {},
     "output_type": "execute_result"
    }
   ],
   "source": [
    "my_list = [1,2,3]\n",
    "id(my_list)"
   ]
  },
  {
   "cell_type": "code",
   "execution_count": 307,
   "metadata": {},
   "outputs": [
    {
     "name": "stdout",
     "output_type": "stream",
     "text": [
      "Initial lst # = 4433062848\n",
      "Final lst # = 4433062848\n"
     ]
    }
   ],
   "source": [
    "modify_lst(my_list)"
   ]
  },
  {
   "cell_type": "code",
   "execution_count": 308,
   "metadata": {},
   "outputs": [],
   "source": [
    "a = [1,2,3]\n",
    "b = [1,2,3]"
   ]
  },
  {
   "cell_type": "code",
   "execution_count": 309,
   "metadata": {},
   "outputs": [
    {
     "data": {
      "text/plain": [
       "4433004608"
      ]
     },
     "execution_count": 309,
     "metadata": {},
     "output_type": "execute_result"
    }
   ],
   "source": [
    "id(a)"
   ]
  },
  {
   "cell_type": "code",
   "execution_count": 310,
   "metadata": {},
   "outputs": [
    {
     "data": {
      "text/plain": [
       "4361529408"
      ]
     },
     "execution_count": 310,
     "metadata": {},
     "output_type": "execute_result"
    }
   ],
   "source": [
    "id(b)"
   ]
  },
  {
   "cell_type": "markdown",
   "metadata": {},
   "source": [
    "While dealing with mutable objects, python memory manager creates separate objects even when different objects are getting defined by the same value, whereas while defining same immutable object to different variables, the variable references point to the same object."
   ]
  },
  {
   "cell_type": "markdown",
   "metadata": {},
   "source": [
    "'is' operate compares the memory addresses\n",
    "whereas '==' compares the object state\n"
   ]
  },
  {
   "cell_type": "markdown",
   "metadata": {},
   "source": [
    "None is a object in python, when a variable is assigned none, it is assigned the reference address pointing to the none object."
   ]
  },
  {
   "cell_type": "code",
   "execution_count": 311,
   "metadata": {},
   "outputs": [
    {
     "data": {
      "text/plain": [
       "4310907472"
      ]
     },
     "execution_count": 311,
     "metadata": {},
     "output_type": "execute_result"
    }
   ],
   "source": [
    "id(None)"
   ]
  },
  {
   "cell_type": "code",
   "execution_count": 312,
   "metadata": {},
   "outputs": [],
   "source": [
    "a =None\n",
    "b=None\n",
    "c=None"
   ]
  },
  {
   "cell_type": "code",
   "execution_count": 313,
   "metadata": {},
   "outputs": [
    {
     "data": {
      "text/plain": [
       "True"
      ]
     },
     "execution_count": 313,
     "metadata": {},
     "output_type": "execute_result"
    }
   ],
   "source": [
    "a is None"
   ]
  },
  {
   "cell_type": "markdown",
   "metadata": {},
   "source": [
    "since, everything we see in python is objects, everything has a reference address that can be assigned to a variable, or passed to a function as parameter.\n",
    "\n",
    "note:\n",
    "while passing a function as a parameter to some other function, '()' shouldn,t be used, as it invokes the function. without paranthesis it's the name of function and with paranthesis it's a call to function\n"
   ]
  },
  {
   "cell_type": "code",
   "execution_count": 314,
   "metadata": {},
   "outputs": [
    {
     "name": "stdout",
     "output_type": "stream",
     "text": [
      "Help on class int in module builtins:\n",
      "\n",
      "class int(object)\n",
      " |  int([x]) -> integer\n",
      " |  int(x, base=10) -> integer\n",
      " |  \n",
      " |  Convert a number or string to an integer, or return 0 if no arguments\n",
      " |  are given.  If x is a number, return x.__int__().  For floating point\n",
      " |  numbers, this truncates towards zero.\n",
      " |  \n",
      " |  If x is not a number or if base is given, then x must be a string,\n",
      " |  bytes, or bytearray instance representing an integer literal in the\n",
      " |  given base.  The literal can be preceded by '+' or '-' and be surrounded\n",
      " |  by whitespace.  The base defaults to 10.  Valid bases are 0 and 2-36.\n",
      " |  Base 0 means to interpret the base from the string as an integer literal.\n",
      " |  >>> int('0b100', base=0)\n",
      " |  4\n",
      " |  \n",
      " |  Built-in subclasses:\n",
      " |      bool\n",
      " |  \n",
      " |  Methods defined here:\n",
      " |  \n",
      " |  __abs__(self, /)\n",
      " |      abs(self)\n",
      " |  \n",
      " |  __add__(self, value, /)\n",
      " |      Return self+value.\n",
      " |  \n",
      " |  __and__(self, value, /)\n",
      " |      Return self&value.\n",
      " |  \n",
      " |  __bool__(self, /)\n",
      " |      self != 0\n",
      " |  \n",
      " |  __ceil__(...)\n",
      " |      Ceiling of an Integral returns itself.\n",
      " |  \n",
      " |  __divmod__(self, value, /)\n",
      " |      Return divmod(self, value).\n",
      " |  \n",
      " |  __eq__(self, value, /)\n",
      " |      Return self==value.\n",
      " |  \n",
      " |  __float__(self, /)\n",
      " |      float(self)\n",
      " |  \n",
      " |  __floor__(...)\n",
      " |      Flooring an Integral returns itself.\n",
      " |  \n",
      " |  __floordiv__(self, value, /)\n",
      " |      Return self//value.\n",
      " |  \n",
      " |  __format__(self, format_spec, /)\n",
      " |      Default object formatter.\n",
      " |  \n",
      " |  __ge__(self, value, /)\n",
      " |      Return self>=value.\n",
      " |  \n",
      " |  __getattribute__(self, name, /)\n",
      " |      Return getattr(self, name).\n",
      " |  \n",
      " |  __getnewargs__(self, /)\n",
      " |  \n",
      " |  __gt__(self, value, /)\n",
      " |      Return self>value.\n",
      " |  \n",
      " |  __hash__(self, /)\n",
      " |      Return hash(self).\n",
      " |  \n",
      " |  __index__(self, /)\n",
      " |      Return self converted to an integer, if self is suitable for use as an index into a list.\n",
      " |  \n",
      " |  __int__(self, /)\n",
      " |      int(self)\n",
      " |  \n",
      " |  __invert__(self, /)\n",
      " |      ~self\n",
      " |  \n",
      " |  __le__(self, value, /)\n",
      " |      Return self<=value.\n",
      " |  \n",
      " |  __lshift__(self, value, /)\n",
      " |      Return self<<value.\n",
      " |  \n",
      " |  __lt__(self, value, /)\n",
      " |      Return self<value.\n",
      " |  \n",
      " |  __mod__(self, value, /)\n",
      " |      Return self%value.\n",
      " |  \n",
      " |  __mul__(self, value, /)\n",
      " |      Return self*value.\n",
      " |  \n",
      " |  __ne__(self, value, /)\n",
      " |      Return self!=value.\n",
      " |  \n",
      " |  __neg__(self, /)\n",
      " |      -self\n",
      " |  \n",
      " |  __or__(self, value, /)\n",
      " |      Return self|value.\n",
      " |  \n",
      " |  __pos__(self, /)\n",
      " |      +self\n",
      " |  \n",
      " |  __pow__(self, value, mod=None, /)\n",
      " |      Return pow(self, value, mod).\n",
      " |  \n",
      " |  __radd__(self, value, /)\n",
      " |      Return value+self.\n",
      " |  \n",
      " |  __rand__(self, value, /)\n",
      " |      Return value&self.\n",
      " |  \n",
      " |  __rdivmod__(self, value, /)\n",
      " |      Return divmod(value, self).\n",
      " |  \n",
      " |  __repr__(self, /)\n",
      " |      Return repr(self).\n",
      " |  \n",
      " |  __rfloordiv__(self, value, /)\n",
      " |      Return value//self.\n",
      " |  \n",
      " |  __rlshift__(self, value, /)\n",
      " |      Return value<<self.\n",
      " |  \n",
      " |  __rmod__(self, value, /)\n",
      " |      Return value%self.\n",
      " |  \n",
      " |  __rmul__(self, value, /)\n",
      " |      Return value*self.\n",
      " |  \n",
      " |  __ror__(self, value, /)\n",
      " |      Return value|self.\n",
      " |  \n",
      " |  __round__(...)\n",
      " |      Rounding an Integral returns itself.\n",
      " |      Rounding with an ndigits argument also returns an integer.\n",
      " |  \n",
      " |  __rpow__(self, value, mod=None, /)\n",
      " |      Return pow(value, self, mod).\n",
      " |  \n",
      " |  __rrshift__(self, value, /)\n",
      " |      Return value>>self.\n",
      " |  \n",
      " |  __rshift__(self, value, /)\n",
      " |      Return self>>value.\n",
      " |  \n",
      " |  __rsub__(self, value, /)\n",
      " |      Return value-self.\n",
      " |  \n",
      " |  __rtruediv__(self, value, /)\n",
      " |      Return value/self.\n",
      " |  \n",
      " |  __rxor__(self, value, /)\n",
      " |      Return value^self.\n",
      " |  \n",
      " |  __sizeof__(self, /)\n",
      " |      Returns size in memory, in bytes.\n",
      " |  \n",
      " |  __sub__(self, value, /)\n",
      " |      Return self-value.\n",
      " |  \n",
      " |  __truediv__(self, value, /)\n",
      " |      Return self/value.\n",
      " |  \n",
      " |  __trunc__(...)\n",
      " |      Truncating an Integral returns itself.\n",
      " |  \n",
      " |  __xor__(self, value, /)\n",
      " |      Return self^value.\n",
      " |  \n",
      " |  as_integer_ratio(self, /)\n",
      " |      Return integer ratio.\n",
      " |      \n",
      " |      Return a pair of integers, whose ratio is exactly equal to the original int\n",
      " |      and with a positive denominator.\n",
      " |      \n",
      " |      >>> (10).as_integer_ratio()\n",
      " |      (10, 1)\n",
      " |      >>> (-10).as_integer_ratio()\n",
      " |      (-10, 1)\n",
      " |      >>> (0).as_integer_ratio()\n",
      " |      (0, 1)\n",
      " |  \n",
      " |  bit_length(self, /)\n",
      " |      Number of bits necessary to represent self in binary.\n",
      " |      \n",
      " |      >>> bin(37)\n",
      " |      '0b100101'\n",
      " |      >>> (37).bit_length()\n",
      " |      6\n",
      " |  \n",
      " |  conjugate(...)\n",
      " |      Returns self, the complex conjugate of any int.\n",
      " |  \n",
      " |  to_bytes(self, /, length, byteorder, *, signed=False)\n",
      " |      Return an array of bytes representing an integer.\n",
      " |      \n",
      " |      length\n",
      " |        Length of bytes object to use.  An OverflowError is raised if the\n",
      " |        integer is not representable with the given number of bytes.\n",
      " |      byteorder\n",
      " |        The byte order used to represent the integer.  If byteorder is 'big',\n",
      " |        the most significant byte is at the beginning of the byte array.  If\n",
      " |        byteorder is 'little', the most significant byte is at the end of the\n",
      " |        byte array.  To request the native byte order of the host system, use\n",
      " |        `sys.byteorder' as the byte order value.\n",
      " |      signed\n",
      " |        Determines whether two's complement is used to represent the integer.\n",
      " |        If signed is False and a negative integer is given, an OverflowError\n",
      " |        is raised.\n",
      " |  \n",
      " |  ----------------------------------------------------------------------\n",
      " |  Class methods defined here:\n",
      " |  \n",
      " |  from_bytes(bytes, byteorder, *, signed=False) from builtins.type\n",
      " |      Return the integer represented by the given array of bytes.\n",
      " |      \n",
      " |      bytes\n",
      " |        Holds the array of bytes to convert.  The argument must either\n",
      " |        support the buffer protocol or be an iterable object producing bytes.\n",
      " |        Bytes and bytearray are examples of built-in objects that support the\n",
      " |        buffer protocol.\n",
      " |      byteorder\n",
      " |        The byte order used to represent the integer.  If byteorder is 'big',\n",
      " |        the most significant byte is at the beginning of the byte array.  If\n",
      " |        byteorder is 'little', the most significant byte is at the end of the\n",
      " |        byte array.  To request the native byte order of the host system, use\n",
      " |        `sys.byteorder' as the byte order value.\n",
      " |      signed\n",
      " |        Indicates whether two's complement is used to represent the integer.\n",
      " |  \n",
      " |  ----------------------------------------------------------------------\n",
      " |  Static methods defined here:\n",
      " |  \n",
      " |  __new__(*args, **kwargs) from builtins.type\n",
      " |      Create and return a new object.  See help(type) for accurate signature.\n",
      " |  \n",
      " |  ----------------------------------------------------------------------\n",
      " |  Data descriptors defined here:\n",
      " |  \n",
      " |  denominator\n",
      " |      the denominator of a rational number in lowest terms\n",
      " |  \n",
      " |  imag\n",
      " |      the imaginary part of a complex number\n",
      " |  \n",
      " |  numerator\n",
      " |      the numerator of a rational number in lowest terms\n",
      " |  \n",
      " |  real\n",
      " |      the real part of a complex number\n",
      "\n"
     ]
    }
   ],
   "source": [
    "help(int)"
   ]
  },
  {
   "cell_type": "code",
   "execution_count": 315,
   "metadata": {},
   "outputs": [],
   "source": [
    "def square(a):\n",
    "    return a**2\n"
   ]
  },
  {
   "cell_type": "code",
   "execution_count": 316,
   "metadata": {},
   "outputs": [
    {
     "data": {
      "text/plain": [
       "function"
      ]
     },
     "execution_count": 316,
     "metadata": {},
     "output_type": "execute_result"
    }
   ],
   "source": [
    "type(square)"
   ]
  },
  {
   "cell_type": "code",
   "execution_count": 317,
   "metadata": {},
   "outputs": [
    {
     "data": {
      "text/plain": [
       "4434944208"
      ]
     },
     "execution_count": 317,
     "metadata": {},
     "output_type": "execute_result"
    }
   ],
   "source": [
    "id(square)"
   ]
  },
  {
   "cell_type": "code",
   "execution_count": 318,
   "metadata": {},
   "outputs": [],
   "source": [
    "f = square"
   ]
  },
  {
   "cell_type": "code",
   "execution_count": 319,
   "metadata": {},
   "outputs": [
    {
     "data": {
      "text/plain": [
       "4434944208"
      ]
     },
     "execution_count": 319,
     "metadata": {},
     "output_type": "execute_result"
    }
   ],
   "source": [
    "id(f)"
   ]
  },
  {
   "cell_type": "code",
   "execution_count": 320,
   "metadata": {},
   "outputs": [
    {
     "data": {
      "text/plain": [
       "True"
      ]
     },
     "execution_count": 320,
     "metadata": {},
     "output_type": "execute_result"
    }
   ],
   "source": [
    "f is square"
   ]
  },
  {
   "cell_type": "code",
   "execution_count": 321,
   "metadata": {},
   "outputs": [
    {
     "data": {
      "text/plain": [
       "4"
      ]
     },
     "execution_count": 321,
     "metadata": {},
     "output_type": "execute_result"
    }
   ],
   "source": [
    "f(2)"
   ]
  },
  {
   "cell_type": "code",
   "execution_count": 322,
   "metadata": {},
   "outputs": [],
   "source": [
    "def cube(a):\n",
    "    return a**3"
   ]
  },
  {
   "cell_type": "code",
   "execution_count": 323,
   "metadata": {},
   "outputs": [],
   "source": [
    "def select_func(fn_id):\n",
    "    if fn_id == 1:\n",
    "        return square\n",
    "    else:\n",
    "        return cube"
   ]
  },
  {
   "cell_type": "code",
   "execution_count": 324,
   "metadata": {},
   "outputs": [
    {
     "data": {
      "text/plain": [
       "4"
      ]
     },
     "execution_count": 324,
     "metadata": {},
     "output_type": "execute_result"
    }
   ],
   "source": [
    "select_func(1)(2)"
   ]
  },
  {
   "cell_type": "code",
   "execution_count": 325,
   "metadata": {},
   "outputs": [
    {
     "data": {
      "text/plain": [
       "4434944208"
      ]
     },
     "execution_count": 325,
     "metadata": {},
     "output_type": "execute_result"
    }
   ],
   "source": [
    "id(select_func(1))"
   ]
  },
  {
   "cell_type": "code",
   "execution_count": 326,
   "metadata": {},
   "outputs": [
    {
     "data": {
      "text/plain": [
       "64"
      ]
     },
     "execution_count": 326,
     "metadata": {},
     "output_type": "execute_result"
    }
   ],
   "source": [
    "select_func(2)(4)"
   ]
  },
  {
   "cell_type": "code",
   "execution_count": 327,
   "metadata": {},
   "outputs": [],
   "source": [
    "def exec_function(fn,n):\n",
    "    return fn(n+1)\n"
   ]
  },
  {
   "cell_type": "code",
   "execution_count": 328,
   "metadata": {},
   "outputs": [
    {
     "data": {
      "text/plain": [
       "16"
      ]
     },
     "execution_count": 328,
     "metadata": {},
     "output_type": "execute_result"
    }
   ],
   "source": [
    "exec_function(square,3)"
   ]
  },
  {
   "cell_type": "markdown",
   "metadata": {},
   "source": [
    "singleton objects are classes that can be initiated only once, so when we try to reinitiate them, they are referenced to the same address\n",
    "\n",
    "numbers in the range -5 to 256 are pre loaded in pyhton so, whenever they are refernced it refernces to this pre loaded addresses"
   ]
  },
  {
   "cell_type": "code",
   "execution_count": 329,
   "metadata": {},
   "outputs": [],
   "source": [
    "a =10\n",
    "b=10"
   ]
  },
  {
   "cell_type": "code",
   "execution_count": 330,
   "metadata": {},
   "outputs": [
    {
     "data": {
      "text/plain": [
       "True"
      ]
     },
     "execution_count": 330,
     "metadata": {},
     "output_type": "execute_result"
    }
   ],
   "source": [
    "a is b"
   ]
  },
  {
   "cell_type": "code",
   "execution_count": 331,
   "metadata": {},
   "outputs": [],
   "source": [
    "c=257\n",
    "d=257"
   ]
  },
  {
   "cell_type": "code",
   "execution_count": 332,
   "metadata": {},
   "outputs": [
    {
     "data": {
      "text/plain": [
       "False"
      ]
     },
     "execution_count": 332,
     "metadata": {},
     "output_type": "execute_result"
    }
   ],
   "source": [
    "c is d"
   ]
  },
  {
   "cell_type": "markdown",
   "metadata": {},
   "source": [
    "interning means python by default will keep a copy of the interned element and whenever needed, it will refernce the address of that interned element as many times as possible. this reduces the time and memory exhaustion in creating different instances while dealing with equal value objects"
   ]
  },
  {
   "cell_type": "markdown",
   "metadata": {},
   "source": [
    "Strings can be interned in python"
   ]
  },
  {
   "cell_type": "code",
   "execution_count": 333,
   "metadata": {},
   "outputs": [],
   "source": [
    "import sys"
   ]
  },
  {
   "cell_type": "code",
   "execution_count": 334,
   "metadata": {},
   "outputs": [],
   "source": [
    "a = sys.intern('My name is Tanay')"
   ]
  },
  {
   "cell_type": "code",
   "execution_count": 335,
   "metadata": {},
   "outputs": [],
   "source": [
    "b = sys.intern('My name is Tanay')"
   ]
  },
  {
   "cell_type": "code",
   "execution_count": 336,
   "metadata": {},
   "outputs": [
    {
     "data": {
      "text/plain": [
       "True"
      ]
     },
     "execution_count": 336,
     "metadata": {},
     "output_type": "execute_result"
    }
   ],
   "source": [
    "a is b"
   ]
  },
  {
   "cell_type": "code",
   "execution_count": 337,
   "metadata": {},
   "outputs": [
    {
     "data": {
      "text/plain": [
       "True"
      ]
     },
     "execution_count": 337,
     "metadata": {},
     "output_type": "execute_result"
    }
   ],
   "source": [
    "a = 'hellosihbsiuabfuyybfybfibib'\n",
    "b='hellosihbsiuabfuyybfybfibib'\n",
    "a is b"
   ]
  },
  {
   "cell_type": "markdown",
   "metadata": {},
   "source": [
    "Generally a string without spaces gets interned\n",
    "large number of comparision of strings is better to be done by interning"
   ]
  },
  {
   "cell_type": "code",
   "execution_count": 338,
   "metadata": {},
   "outputs": [
    {
     "name": "stdout",
     "output_type": "stream",
     "text": [
      "<class 'int'>\n"
     ]
    }
   ],
   "source": [
    "print(type(100))"
   ]
  },
  {
   "cell_type": "code",
   "execution_count": 339,
   "metadata": {},
   "outputs": [],
   "source": [
    "import sys"
   ]
  },
  {
   "cell_type": "code",
   "execution_count": 340,
   "metadata": {},
   "outputs": [
    {
     "data": {
      "text/plain": [
       "24"
      ]
     },
     "execution_count": 340,
     "metadata": {},
     "output_type": "execute_result"
    }
   ],
   "source": [
    "sys.getsizeof(0)"
   ]
  },
  {
   "cell_type": "code",
   "execution_count": 341,
   "metadata": {},
   "outputs": [
    {
     "data": {
      "text/plain": [
       "28"
      ]
     },
     "execution_count": 341,
     "metadata": {},
     "output_type": "execute_result"
    }
   ],
   "source": [
    "sys.getsizeof(1)\n"
   ]
  },
  {
   "cell_type": "code",
   "execution_count": 342,
   "metadata": {},
   "outputs": [
    {
     "data": {
      "text/plain": [
       "28"
      ]
     },
     "execution_count": 342,
     "metadata": {},
     "output_type": "execute_result"
    }
   ],
   "source": [
    "sys.getsizeof(100)\n"
   ]
  },
  {
   "cell_type": "code",
   "execution_count": 343,
   "metadata": {},
   "outputs": [
    {
     "data": {
      "text/plain": [
       "1328796"
      ]
     },
     "execution_count": 343,
     "metadata": {},
     "output_type": "execute_result"
    }
   ],
   "source": [
    "sys.getsizeof(1000000000000000**200000)"
   ]
  },
  {
   "cell_type": "code",
   "execution_count": 344,
   "metadata": {},
   "outputs": [],
   "source": [
    "import time\n",
    "def calc(a):\n",
    "    return 2**a"
   ]
  },
  {
   "cell_type": "code",
   "execution_count": 345,
   "metadata": {},
   "outputs": [
    {
     "name": "stdout",
     "output_type": "stream",
     "text": [
      "2.2166999769979157e-05\n"
     ]
    }
   ],
   "source": [
    "start = time.perf_counter()\n",
    "calc(10)\n",
    "end = time.perf_counter()\n",
    "print(end - start)"
   ]
  },
  {
   "cell_type": "code",
   "execution_count": 346,
   "metadata": {},
   "outputs": [
    {
     "name": "stdout",
     "output_type": "stream",
     "text": [
      "4.2333000237704255e-05\n"
     ]
    }
   ],
   "source": [
    "start = time.perf_counter()\n",
    "calc(10000)\n",
    "end = time.perf_counter()\n",
    "print(end - start)"
   ]
  },
  {
   "cell_type": "code",
   "execution_count": 347,
   "metadata": {},
   "outputs": [
    {
     "data": {
      "text/plain": [
       "38"
      ]
     },
     "execution_count": 347,
     "metadata": {},
     "output_type": "execute_result"
    }
   ],
   "source": [
    "155 // 4"
   ]
  },
  {
   "cell_type": "code",
   "execution_count": 348,
   "metadata": {},
   "outputs": [
    {
     "data": {
      "text/plain": [
       "3"
      ]
     },
     "execution_count": 348,
     "metadata": {},
     "output_type": "execute_result"
    }
   ],
   "source": [
    "155%4"
   ]
  },
  {
   "cell_type": "code",
   "execution_count": 349,
   "metadata": {},
   "outputs": [
    {
     "data": {
      "text/plain": [
       "155"
      ]
     },
     "execution_count": 349,
     "metadata": {},
     "output_type": "execute_result"
    }
   ],
   "source": [
    "38*4 + 3"
   ]
  },
  {
   "cell_type": "markdown",
   "metadata": {},
   "source": [
    "a/b = a//b + a%b\n",
    "\n",
    "this condition needs to be satisfied in any kind of divisions\n",
    "a//b -> this is floor of a/b (not necessarily quotient of a/b)\n",
    "a%b -> this is calculated from the above equation. and not necessarily a reminder in a/b."
   ]
  },
  {
   "cell_type": "code",
   "execution_count": 350,
   "metadata": {},
   "outputs": [
    {
     "data": {
      "text/plain": [
       "int"
      ]
     },
     "execution_count": 350,
     "metadata": {},
     "output_type": "execute_result"
    }
   ],
   "source": [
    "type(1+1)"
   ]
  },
  {
   "cell_type": "code",
   "execution_count": 351,
   "metadata": {},
   "outputs": [
    {
     "data": {
      "text/plain": [
       "float"
      ]
     },
     "execution_count": 351,
     "metadata": {},
     "output_type": "execute_result"
    }
   ],
   "source": [
    "type(2/3)"
   ]
  },
  {
   "cell_type": "code",
   "execution_count": 352,
   "metadata": {},
   "outputs": [
    {
     "data": {
      "text/plain": [
       "float"
      ]
     },
     "execution_count": 352,
     "metadata": {},
     "output_type": "execute_result"
    }
   ],
   "source": [
    "type(10/2)"
   ]
  },
  {
   "cell_type": "code",
   "execution_count": 353,
   "metadata": {},
   "outputs": [],
   "source": [
    "import math"
   ]
  },
  {
   "cell_type": "code",
   "execution_count": 354,
   "metadata": {},
   "outputs": [
    {
     "data": {
      "text/plain": [
       "3"
      ]
     },
     "execution_count": 354,
     "metadata": {},
     "output_type": "execute_result"
    }
   ],
   "source": [
    "math.floor(3.99999)"
   ]
  },
  {
   "cell_type": "markdown",
   "metadata": {},
   "source": [
    "floor has a limited precision"
   ]
  },
  {
   "cell_type": "code",
   "execution_count": 355,
   "metadata": {},
   "outputs": [
    {
     "data": {
      "text/plain": [
       "-4"
      ]
     },
     "execution_count": 355,
     "metadata": {},
     "output_type": "execute_result"
    }
   ],
   "source": [
    "math.floor(-3.000000000001)"
   ]
  },
  {
   "cell_type": "code",
   "execution_count": 356,
   "metadata": {},
   "outputs": [
    {
     "data": {
      "text/plain": [
       "-3"
      ]
     },
     "execution_count": 356,
     "metadata": {},
     "output_type": "execute_result"
    }
   ],
   "source": [
    "math.floor(-3.0000000000000001)"
   ]
  },
  {
   "cell_type": "code",
   "execution_count": 357,
   "metadata": {},
   "outputs": [
    {
     "name": "stdout",
     "output_type": "stream",
     "text": [
      "2.0625\n",
      "2\n",
      "1\n"
     ]
    }
   ],
   "source": [
    "a=33\n",
    "b=16\n",
    "print(a/b)\n",
    "print(a//b)\n",
    "print(a%b)"
   ]
  },
  {
   "cell_type": "code",
   "execution_count": 358,
   "metadata": {},
   "outputs": [
    {
     "name": "stdout",
     "output_type": "stream",
     "text": [
      "-2.0625\n",
      "-3\n",
      "15\n"
     ]
    }
   ],
   "source": [
    "a=-33\n",
    "b=16\n",
    "print(a/b)\n",
    "print(a//b)\n",
    "print(a%b)"
   ]
  },
  {
   "cell_type": "code",
   "execution_count": 359,
   "metadata": {},
   "outputs": [
    {
     "name": "stdout",
     "output_type": "stream",
     "text": [
      "2.0625\n",
      "2\n",
      "-1\n"
     ]
    }
   ],
   "source": [
    "a=-33\n",
    "b=-16\n",
    "print(a/b)\n",
    "print(a//b)\n",
    "print(a%b)"
   ]
  },
  {
   "cell_type": "markdown",
   "metadata": {},
   "source": [
    "Bin() function is used to convert decimal to base 2\n",
    "oct() to base 8\n",
    "hex() to base 16\n",
    "\n",
    "apart from this if we want to represent the number in any other base, we'll need custom code for it."
   ]
  },
  {
   "cell_type": "markdown",
   "metadata": {},
   "source": [
    "--------------------start of peephole optimisation-----------------------"
   ]
  },
  {
   "cell_type": "markdown",
   "metadata": {},
   "source": [
    "# peephole optimisation\n",
    "\n",
    "During peephole optimisation, optimisation occures at compile time. \n",
    "in that constant expressions, upto a certain limit gets stored into the resulting constants\n",
    "\n",
    "## Membership tests\n",
    "\n",
    "during membership tests:\n",
    "lists->tuples\n",
    "sets->Frozen sets\n",
    "Set memberships are much faster than list or tuple membership, because sets are basically like doctionairies"
   ]
  },
  {
   "cell_type": "code",
   "execution_count": 360,
   "metadata": {},
   "outputs": [],
   "source": [
    "def my_func():\n",
    "    a =24*65\n",
    "    b= (1,2)*5\n",
    "    c='abc'*100\n",
    "    d = 'ab'*20\n",
    "    e = 'The quick brown fox'*20\n",
    "    f = ['a','b']*3 "
   ]
  },
  {
   "cell_type": "code",
   "execution_count": 361,
   "metadata": {},
   "outputs": [
    {
     "data": {
      "text/plain": [
       "(None,\n",
       " 1560,\n",
       " (1, 2, 1, 2, 1, 2, 1, 2, 1, 2),\n",
       " 'abcabcabcabcabcabcabcabcabcabcabcabcabcabcabcabcabcabcabcabcabcabcabcabcabcabcabcabcabcabcabcabcabcabcabcabcabcabcabcabcabcabcabcabcabcabcabcabcabcabcabcabcabcabcabcabcabcabcabcabcabcabcabcabcabcabcabcabcabcabcabcabcabcabcabcabcabcabcabcabcabcabcabcabcabcabcabcabcabcabcabcabcabcabcabcabcabcabcabcabc',\n",
       " 'abababababababababababababababababababab',\n",
       " 'The quick brown foxThe quick brown foxThe quick brown foxThe quick brown foxThe quick brown foxThe quick brown foxThe quick brown foxThe quick brown foxThe quick brown foxThe quick brown foxThe quick brown foxThe quick brown foxThe quick brown foxThe quick brown foxThe quick brown foxThe quick brown foxThe quick brown foxThe quick brown foxThe quick brown foxThe quick brown fox',\n",
       " 'a',\n",
       " 'b',\n",
       " 3)"
      ]
     },
     "execution_count": 361,
     "metadata": {},
     "output_type": "execute_result"
    }
   ],
   "source": [
    "my_func.__code__.co_consts"
   ]
  },
  {
   "cell_type": "code",
   "execution_count": 362,
   "metadata": {},
   "outputs": [],
   "source": [
    "def my_func(e):\n",
    "    if e in {1,2,3}:\n",
    "        pass"
   ]
  },
  {
   "cell_type": "code",
   "execution_count": 363,
   "metadata": {},
   "outputs": [
    {
     "data": {
      "text/plain": [
       "(None, frozenset({1, 2, 3}))"
      ]
     },
     "execution_count": 363,
     "metadata": {},
     "output_type": "execute_result"
    }
   ],
   "source": [
    "my_func.__code__.co_consts"
   ]
  },
  {
   "cell_type": "code",
   "execution_count": 364,
   "metadata": {},
   "outputs": [],
   "source": [
    "import string\n",
    "import time"
   ]
  },
  {
   "cell_type": "code",
   "execution_count": 365,
   "metadata": {},
   "outputs": [
    {
     "data": {
      "text/plain": [
       "'abcdefghijklmnopqrstuvwxyzABCDEFGHIJKLMNOPQRSTUVWXYZ'"
      ]
     },
     "execution_count": 365,
     "metadata": {},
     "output_type": "execute_result"
    }
   ],
   "source": [
    "string.ascii_letters"
   ]
  },
  {
   "cell_type": "code",
   "execution_count": 366,
   "metadata": {},
   "outputs": [],
   "source": [
    "char_list = list(string.ascii_letters)\n",
    "char_tuple = tuple(string.ascii_letters)"
   ]
  },
  {
   "cell_type": "code",
   "execution_count": 367,
   "metadata": {},
   "outputs": [],
   "source": [
    "char_set = set(string.ascii_letters)"
   ]
  },
  {
   "cell_type": "code",
   "execution_count": 368,
   "metadata": {},
   "outputs": [
    {
     "name": "stdout",
     "output_type": "stream",
     "text": [
      "['a', 'b', 'c', 'd', 'e', 'f', 'g', 'h', 'i', 'j', 'k', 'l', 'm', 'n', 'o', 'p', 'q', 'r', 's', 't', 'u', 'v', 'w', 'x', 'y', 'z', 'A', 'B', 'C', 'D', 'E', 'F', 'G', 'H', 'I', 'J', 'K', 'L', 'M', 'N', 'O', 'P', 'Q', 'R', 'S', 'T', 'U', 'V', 'W', 'X', 'Y', 'Z']\n"
     ]
    }
   ],
   "source": [
    "print(char_list)"
   ]
  },
  {
   "cell_type": "code",
   "execution_count": 369,
   "metadata": {},
   "outputs": [
    {
     "name": "stdout",
     "output_type": "stream",
     "text": [
      "('a', 'b', 'c', 'd', 'e', 'f', 'g', 'h', 'i', 'j', 'k', 'l', 'm', 'n', 'o', 'p', 'q', 'r', 's', 't', 'u', 'v', 'w', 'x', 'y', 'z', 'A', 'B', 'C', 'D', 'E', 'F', 'G', 'H', 'I', 'J', 'K', 'L', 'M', 'N', 'O', 'P', 'Q', 'R', 'S', 'T', 'U', 'V', 'W', 'X', 'Y', 'Z')\n"
     ]
    }
   ],
   "source": [
    "print(char_tuple)"
   ]
  },
  {
   "cell_type": "code",
   "execution_count": 370,
   "metadata": {},
   "outputs": [
    {
     "name": "stdout",
     "output_type": "stream",
     "text": [
      "{'y', 'O', 'x', 'j', 'u', 'f', 'g', 'h', 'C', 'i', 'o', 't', 'd', 'Z', 'I', 'n', 'B', 'b', 'Q', 'S', 'p', 'e', 'l', 'J', 'V', 'm', 'F', 'q', 'G', 'X', 's', 'A', 'k', 'a', 'v', 'r', 'N', 'w', 'W', 'Y', 'U', 'c', 'M', 'P', 'E', 'K', 'z', 'T', 'R', 'H', 'L', 'D'}\n"
     ]
    }
   ],
   "source": [
    "print(char_set)"
   ]
  },
  {
   "cell_type": "code",
   "execution_count": 371,
   "metadata": {},
   "outputs": [],
   "source": [
    "def membership_test(n, container):\n",
    "    for i in range(n):\n",
    "        if 'z' in container:\n",
    "            pass"
   ]
  },
  {
   "cell_type": "code",
   "execution_count": 372,
   "metadata": {},
   "outputs": [
    {
     "name": "stdout",
     "output_type": "stream",
     "text": [
      "list:  2.3327850830009993\n"
     ]
    }
   ],
   "source": [
    "start = time.perf_counter()\n",
    "membership_test(10000000, char_list)\n",
    "end = time.perf_counter()\n",
    "print('list: ',end - start)"
   ]
  },
  {
   "cell_type": "code",
   "execution_count": 373,
   "metadata": {},
   "outputs": [
    {
     "name": "stdout",
     "output_type": "stream",
     "text": [
      "tuple:  2.2606787079985224\n"
     ]
    }
   ],
   "source": [
    "start = time.perf_counter()\n",
    "membership_test(10000000, char_tuple)\n",
    "end = time.perf_counter()\n",
    "print('tuple: ',end - start)"
   ]
  },
  {
   "cell_type": "code",
   "execution_count": 374,
   "metadata": {},
   "outputs": [
    {
     "name": "stdout",
     "output_type": "stream",
     "text": [
      "set:  0.17472258400084684\n"
     ]
    }
   ],
   "source": [
    "start = time.perf_counter()\n",
    "membership_test(10000000, char_set)\n",
    "end = time.perf_counter()\n",
    "print('set: ',end - start)"
   ]
  },
  {
   "cell_type": "markdown",
   "metadata": {},
   "source": [
    "> # conclusion\n",
    "> prefer using set membership\n",
    "\n",
    "-----------------end of peephole optimisation-------------------------"
   ]
  },
  {
   "cell_type": "markdown",
   "metadata": {},
   "source": [
    "------------------------INtegers : Constructor and bases------------------------"
   ]
  },
  {
   "cell_type": "markdown",
   "metadata": {},
   "source": [
    "bin(36)"
   ]
  },
  {
   "cell_type": "code",
   "execution_count": 375,
   "metadata": {},
   "outputs": [
    {
     "data": {
      "text/plain": [
       "'0b1101'"
      ]
     },
     "execution_count": 375,
     "metadata": {},
     "output_type": "execute_result"
    }
   ],
   "source": [
    "bin(13)"
   ]
  },
  {
   "cell_type": "code",
   "execution_count": 376,
   "metadata": {},
   "outputs": [
    {
     "data": {
      "text/plain": [
       "'0x146'"
      ]
     },
     "execution_count": 376,
     "metadata": {},
     "output_type": "execute_result"
    }
   ],
   "source": [
    "hex(326)"
   ]
  },
  {
   "cell_type": "code",
   "execution_count": 377,
   "metadata": {},
   "outputs": [
    {
     "data": {
      "text/plain": [
       "'0o6'"
      ]
     },
     "execution_count": 377,
     "metadata": {},
     "output_type": "execute_result"
    }
   ],
   "source": [
    "oct(6)"
   ]
  },
  {
   "cell_type": "code",
   "execution_count": 378,
   "metadata": {},
   "outputs": [],
   "source": [
    "def from_base10(n,b):\n",
    "    if b<2:\n",
    "        raise ValueError(\"base cannot be lesser than 2\")\n",
    "    if n<0:\n",
    "        raise ValueError('N has to be positive')\n",
    "    if n == 0:\n",
    "        return [0]\n",
    "    digits = []\n",
    "\n",
    "    while (n!=0):\n",
    "        n,m = divmod(n,b)\n",
    "        # m = n%b\n",
    "        # n = n // b\n",
    "        digits.insert(0,m)\n",
    "    return digits"
   ]
  },
  {
   "cell_type": "code",
   "execution_count": 379,
   "metadata": {},
   "outputs": [
    {
     "data": {
      "text/plain": [
       "[1, 1, 1, 1, 1, 1, 1, 1]"
      ]
     },
     "execution_count": 379,
     "metadata": {},
     "output_type": "execute_result"
    }
   ],
   "source": [
    "from_base10(255,2)"
   ]
  },
  {
   "cell_type": "code",
   "execution_count": 380,
   "metadata": {},
   "outputs": [],
   "source": [
    "def encode(digits, digits_map):\n",
    "    if max(digits) >= len(digits_map):\n",
    "        raise ValueError(\"digit map isn't long enough to encode the digits\" )\n",
    "    # encoding = ''\n",
    "    # for d in digits:\n",
    "    #     encoding += digits_map[d]\n",
    "    # return encoding\n",
    "\n",
    "    return ''.join(digits_map[d] for d in digits)"
   ]
  },
  {
   "cell_type": "code",
   "execution_count": 381,
   "metadata": {},
   "outputs": [
    {
     "data": {
      "text/plain": [
       "'f4'"
      ]
     },
     "execution_count": 381,
     "metadata": {},
     "output_type": "execute_result"
    }
   ],
   "source": [
    "encode([15,4], '0123456789abcdef')"
   ]
  },
  {
   "cell_type": "code",
   "execution_count": 382,
   "metadata": {},
   "outputs": [],
   "source": [
    "def rebase_from10(n,b):\n",
    "    digits_map = '0123456789ABCDEFGHIJKLMNOPQRSTUVWXYZ'\n",
    "    if b<2 or b>36:\n",
    "        raise ValueError('base is not in the legel range')\n",
    "    sign = -1 if n<0 else 1\n",
    "    n *= sign\n",
    "    digits = []\n",
    "    while(n!=0):\n",
    "        n,m = divmod(n,b)\n",
    "        digits.insert(0,m)\n",
    "    ans = ''.join(digits_map[d] for d in digits)\n",
    "    if(sign == -1):\n",
    "        ans = '-'+ans\n",
    "    return ans"
   ]
  },
  {
   "cell_type": "code",
   "execution_count": 383,
   "metadata": {},
   "outputs": [
    {
     "data": {
      "text/plain": [
       "'-1E95D'"
      ]
     },
     "execution_count": 383,
     "metadata": {},
     "output_type": "execute_result"
    }
   ],
   "source": [
    "rebase_from10(-99988,15)"
   ]
  },
  {
   "cell_type": "code",
   "execution_count": 384,
   "metadata": {},
   "outputs": [],
   "source": [
    "from fractions import Fraction"
   ]
  },
  {
   "cell_type": "code",
   "execution_count": 385,
   "metadata": {},
   "outputs": [
    {
     "data": {
      "text/plain": [
       "Fraction(7077085128725065, 2251799813685248)"
      ]
     },
     "execution_count": 385,
     "metadata": {},
     "output_type": "execute_result"
    }
   ],
   "source": [
    "x = Fraction(3.142857142857143)\n",
    "x"
   ]
  },
  {
   "cell_type": "code",
   "execution_count": null,
   "metadata": {},
   "outputs": [],
   "source": []
  },
  {
   "cell_type": "code",
   "execution_count": 386,
   "metadata": {},
   "outputs": [
    {
     "data": {
      "text/plain": [
       "3.142857142857143"
      ]
     },
     "execution_count": 386,
     "metadata": {},
     "output_type": "execute_result"
    }
   ],
   "source": [
    "float(Fraction(22,7))"
   ]
  },
  {
   "cell_type": "code",
   "execution_count": 387,
   "metadata": {},
   "outputs": [],
   "source": [
    "import math"
   ]
  },
  {
   "cell_type": "code",
   "execution_count": 388,
   "metadata": {},
   "outputs": [
    {
     "name": "stdout",
     "output_type": "stream",
     "text": [
      "22/7\n"
     ]
    }
   ],
   "source": [
    "x = Fraction(math.pi)\n",
    "x = x.limit_denominator(10)\n",
    "print(x)"
   ]
  },
  {
   "cell_type": "markdown",
   "metadata": {},
   "source": [
    "------------------------------Floats internal representation---------------------------\n",
    "All floats when stored in computer are interpreted in base 2 system. Because of this reason even if some floats seems to be exact in base 10, when represented in base 2, are not exact."
   ]
  },
  {
   "cell_type": "code",
   "execution_count": 389,
   "metadata": {},
   "outputs": [
    {
     "name": "stdout",
     "output_type": "stream",
     "text": [
      "False\n"
     ]
    }
   ],
   "source": [
    "a = 0.1+0.1+0.1\n",
    "b=0.3\n",
    "print(a==b)"
   ]
  },
  {
   "cell_type": "code",
   "execution_count": 390,
   "metadata": {},
   "outputs": [
    {
     "data": {
      "text/plain": [
       "'0.3000000000000000444089210'"
      ]
     },
     "execution_count": 390,
     "metadata": {},
     "output_type": "execute_result"
    }
   ],
   "source": [
    "format(a,'.25f')"
   ]
  },
  {
   "cell_type": "code",
   "execution_count": 391,
   "metadata": {},
   "outputs": [
    {
     "data": {
      "text/plain": [
       "'0.2999999999999999888977698'"
      ]
     },
     "execution_count": 391,
     "metadata": {},
     "output_type": "execute_result"
    }
   ],
   "source": [
    "format(b,'.25f')"
   ]
  },
  {
   "cell_type": "markdown",
   "metadata": {},
   "source": [
    "----------------floats equality testing-----------------"
   ]
  },
  {
   "cell_type": "markdown",
   "metadata": {},
   "source": [
    "## method 1 \n",
    "\n",
    "using `round()`\n",
    "\n",
    "but in round we are looking for absolute tolerance, which can be invalid when the order/size of number is either very large or very small.\n",
    "for such conditions we need to coin a method which uses tolerance relative to the size of "
   ]
  },
  {
   "cell_type": "code",
   "execution_count": 392,
   "metadata": {},
   "outputs": [
    {
     "data": {
      "text/plain": [
       "False"
      ]
     },
     "execution_count": 392,
     "metadata": {},
     "output_type": "execute_result"
    }
   ],
   "source": [
    "round(0.1,5)+round(0.1,5)+round(0.1,5) == round(0.3,5)"
   ]
  },
  {
   "cell_type": "code",
   "execution_count": 393,
   "metadata": {},
   "outputs": [
    {
     "data": {
      "text/plain": [
       "True"
      ]
     },
     "execution_count": 393,
     "metadata": {},
     "output_type": "execute_result"
    }
   ],
   "source": [
    "round(0.1+0.1+0.1,5) == round(0.3,5)"
   ]
  },
  {
   "cell_type": "markdown",
   "metadata": {},
   "source": [
    "## method 2\n",
    "\n",
    "specify a range '*E*', and if the difference between 2 floats is lesser than that, they are equal\n",
    "\n",
    "i.e. |a-b|<E\n",
    "\n",
    "> # conclusion :\n",
    "> while dealing with floating point numbers, we have to use `islcose()` method of math module"
   ]
  },
  {
   "cell_type": "markdown",
   "metadata": {},
   "source": [
    "`math.isclose(x,y,*,rel_tot = ,abs_tot = )`"
   ]
  },
  {
   "cell_type": "code",
   "execution_count": 394,
   "metadata": {},
   "outputs": [
    {
     "name": "stdout",
     "output_type": "stream",
     "text": [
      "True\n"
     ]
    }
   ],
   "source": [
    "import math\n",
    "print(math.isclose(10.00005,10.00006,rel_tol=1e-25,abs_tol=1e-5))"
   ]
  },
  {
   "cell_type": "code",
   "execution_count": 395,
   "metadata": {},
   "outputs": [
    {
     "name": "stdout",
     "output_type": "stream",
     "text": [
      "Help on built-in function isclose in module math:\n",
      "\n",
      "isclose(a, b, *, rel_tol=1e-09, abs_tol=0.0)\n",
      "    Determine whether two floating point numbers are close in value.\n",
      "    \n",
      "      rel_tol\n",
      "        maximum difference for being considered \"close\", relative to the\n",
      "        magnitude of the input values\n",
      "      abs_tol\n",
      "        maximum difference for being considered \"close\", regardless of the\n",
      "        magnitude of the input values\n",
      "    \n",
      "    Return True if a is close in value to b, and False otherwise.\n",
      "    \n",
      "    For the values to be considered close, the difference between them\n",
      "    must be smaller than at least one of the tolerances.\n",
      "    \n",
      "    -inf, inf and NaN behave similarly to the IEEE 754 Standard.  That\n",
      "    is, NaN is not close to anything, even itself.  inf and -inf are\n",
      "    only close to themselves.\n",
      "\n"
     ]
    }
   ],
   "source": [
    "help(math.isclose)"
   ]
  },
  {
   "cell_type": "markdown",
   "metadata": {},
   "source": [
    "### floats Coercing to integer\n",
    "\n",
    "4 methods (all have to be imported from math module `import math`)\n",
    "\n",
    "- `trunc()`\n",
    "- `floor()`\n",
    "- `ceil()`\n",
    "- `round()`"
   ]
  },
  {
   "cell_type": "markdown",
   "metadata": {},
   "source": [
    "# `round()`\n",
    "\n",
    "## incase of tie (1.25, 1.35 etc (rounding to one decimal point))\n",
    "\n",
    "- rounding away from zero (context number line)\n",
    "- rounding towards zero (context number line)\n",
    "\n",
    "> Rounding incase of tie is done by going towards the nearest even number"
   ]
  },
  {
   "cell_type": "code",
   "execution_count": 396,
   "metadata": {},
   "outputs": [
    {
     "name": "stdout",
     "output_type": "stream",
     "text": [
      "Help on built-in function round in module builtins:\n",
      "\n",
      "round(number, ndigits=None)\n",
      "    Round a number to a given precision in decimal digits.\n",
      "    \n",
      "    The return value is an integer if ndigits is omitted or None.  Otherwise\n",
      "    the return value has the same type as the number.  ndigits may be negative.\n",
      "\n"
     ]
    }
   ],
   "source": [
    "help(round)"
   ]
  },
  {
   "cell_type": "markdown",
   "metadata": {},
   "source": [
    "`round(number, n)` -> 'n' gives the number of decimal places that should exist in the result. It basically considers 10^(-n) as a multiplying factor and keeps only that many decimal digits imn the result\n",
    "\n",
    "It's called **banker's rounding**"
   ]
  },
  {
   "cell_type": "code",
   "execution_count": 397,
   "metadata": {},
   "outputs": [],
   "source": [
    "import math"
   ]
  },
  {
   "cell_type": "code",
   "execution_count": 398,
   "metadata": {},
   "outputs": [
    {
     "name": "stdout",
     "output_type": "stream",
     "text": [
      "Help on built-in function copysign in module math:\n",
      "\n",
      "copysign(x, y, /)\n",
      "    Return a float with the magnitude (absolute value) of x but the sign of y.\n",
      "    \n",
      "    On platforms that support signed zeros, copysign(1.0, -0.0)\n",
      "    returns -1.0.\n",
      "\n"
     ]
    }
   ],
   "source": [
    "help(math.copysign)"
   ]
  },
  {
   "cell_type": "markdown",
   "metadata": {},
   "source": [
    "> It copies the sign of the second argument and, pastes it to the first one\n",
    "\n",
    "so we can use copysign(1,x), for rounding algo"
   ]
  },
  {
   "cell_type": "code",
   "execution_count": 399,
   "metadata": {},
   "outputs": [],
   "source": [
    "def round_up(x):\n",
    "    return int(x + math.copysign(1,x)*0.5)"
   ]
  },
  {
   "cell_type": "code",
   "execution_count": 400,
   "metadata": {},
   "outputs": [
    {
     "data": {
      "text/plain": [
       "15"
      ]
     },
     "execution_count": 400,
     "metadata": {},
     "output_type": "execute_result"
    }
   ],
   "source": [
    "round_up(14.5)"
   ]
  },
  {
   "cell_type": "code",
   "execution_count": 401,
   "metadata": {},
   "outputs": [
    {
     "data": {
      "text/plain": [
       "(2.0, float)"
      ]
     },
     "execution_count": 401,
     "metadata": {},
     "output_type": "execute_result"
    }
   ],
   "source": [
    "a = round(1.9,0)\n",
    "a, type(a)"
   ]
  },
  {
   "cell_type": "code",
   "execution_count": 402,
   "metadata": {},
   "outputs": [
    {
     "name": "stdout",
     "output_type": "stream",
     "text": [
      "112\n",
      "111.8889\n",
      "111.89\n",
      "112.0\n",
      "110.0\n",
      "100.0\n"
     ]
    }
   ],
   "source": [
    "print(round(111.88888))\n",
    "print(round(111.88888,4))\n",
    "print(round(111.88888,2))\n",
    "print(round(111.88888,0))\n",
    "print(round(111.88888,-1))    \n",
    "print(round(111.88888,-2))"
   ]
  },
  {
   "cell_type": "code",
   "execution_count": 403,
   "metadata": {},
   "outputs": [
    {
     "data": {
      "text/plain": [
       "(1.2, 1.4)"
      ]
     },
     "execution_count": 403,
     "metadata": {},
     "output_type": "execute_result"
    }
   ],
   "source": [
    "round(1.25,1), round(1.35,1)"
   ]
  },
  {
   "cell_type": "code",
   "execution_count": 404,
   "metadata": {},
   "outputs": [],
   "source": [
    "def _round(x):\n",
    "    from math import copysign\n",
    "    return int(x + 0.5*copysign(1,x))"
   ]
  },
  {
   "cell_type": "code",
   "execution_count": 405,
   "metadata": {},
   "outputs": [
    {
     "data": {
      "text/plain": [
       "(2, 3)"
      ]
     },
     "execution_count": 405,
     "metadata": {},
     "output_type": "execute_result"
    }
   ],
   "source": [
    "round(2.5), _round(2.5)"
   ]
  },
  {
   "cell_type": "markdown",
   "metadata": {},
   "source": [
    "----------------decimal-------------------------"
   ]
  },
  {
   "cell_type": "code",
   "execution_count": 406,
   "metadata": {},
   "outputs": [
    {
     "name": "stdout",
     "output_type": "stream",
     "text": [
      "Help on built-in function getcontext in module decimal:\n",
      "\n",
      "getcontext()\n",
      "    Get the current default context.\n",
      "\n"
     ]
    }
   ],
   "source": [
    "import decimal\n",
    "help(decimal.getcontext)"
   ]
  },
  {
   "cell_type": "code",
   "execution_count": 407,
   "metadata": {},
   "outputs": [
    {
     "name": "stdout",
     "output_type": "stream",
     "text": [
      "Help on built-in function localcontext in module decimal:\n",
      "\n",
      "localcontext(ctx=None)\n",
      "    Return a context manager that will set the default context to a copy of ctx\n",
      "    on entry to the with-statement and restore the previous default context when\n",
      "    exiting the with-statement. If no context is specified, a copy of the current\n",
      "    default context is used.\n",
      "\n"
     ]
    }
   ],
   "source": [
    "help(decimal.localcontext)"
   ]
  },
  {
   "cell_type": "code",
   "execution_count": 408,
   "metadata": {},
   "outputs": [
    {
     "data": {
      "text/plain": [
       "Context(prec=28, rounding=ROUND_UP, Emin=-999999, Emax=999999, capitals=1, clamp=0, flags=[Inexact, Rounded], traps=[InvalidOperation, DivisionByZero, Overflow])"
      ]
     },
     "execution_count": 408,
     "metadata": {},
     "output_type": "execute_result"
    }
   ],
   "source": [
    "decimal.getcontext()"
   ]
  },
  {
   "cell_type": "code",
   "execution_count": 409,
   "metadata": {},
   "outputs": [],
   "source": [
    "from decimal import Decimal"
   ]
  },
  {
   "cell_type": "code",
   "execution_count": 410,
   "metadata": {},
   "outputs": [],
   "source": [
    "decimal.getcontext().rounding = 'ROUND_UP'"
   ]
  },
  {
   "cell_type": "markdown",
   "metadata": {},
   "source": [
    "FLOATS are stored in base 2 system whereas decimal are stored as base 10 systems, so although we can pass floats to the constructor directly, it is highly recommended that we shouldn't. because it will store the errored value arising due to storage in base 2 system\n",
    "\n",
    "> hence to store a float we use string, or tuple.\n",
    "\n",
    "decimals have 3 main data to be stored,\n",
    "1. Integer part\n",
    "2. sign\n",
    "3. power of 10, to mention decimal places"
   ]
  },
  {
   "cell_type": "markdown",
   "metadata": {},
   "source": [
    "So data stored in decimal is in the form of a tuple\n",
    "\n",
    "##### (sign, (d1,d2,d3,.....), exp)"
   ]
  },
  {
   "cell_type": "code",
   "execution_count": 411,
   "metadata": {},
   "outputs": [],
   "source": [
    "a = Decimal((1,(3,1,4,1,5),-4))"
   ]
  },
  {
   "cell_type": "code",
   "execution_count": 412,
   "metadata": {},
   "outputs": [
    {
     "data": {
      "text/plain": [
       "Decimal('-3.1415')"
      ]
     },
     "execution_count": 412,
     "metadata": {},
     "output_type": "execute_result"
    }
   ],
   "source": [
    "a "
   ]
  },
  {
   "cell_type": "markdown",
   "metadata": {},
   "source": [
    "# Decimals: Constructor and Context"
   ]
  },
  {
   "cell_type": "markdown",
   "metadata": {},
   "source": [
    "Context precision affects mathematical operations and not the Decimal constructor"
   ]
  },
  {
   "cell_type": "code",
   "execution_count": 413,
   "metadata": {},
   "outputs": [
    {
     "name": "stdout",
     "output_type": "stream",
     "text": [
      "28\n"
     ]
    },
    {
     "data": {
      "text/plain": [
       "Decimal('20.2472')"
      ]
     },
     "execution_count": 413,
     "metadata": {},
     "output_type": "execute_result"
    }
   ],
   "source": [
    "a = Decimal('10.12355555')\n",
    "b = Decimal('10.12355555')\n",
    "print(decimal.getcontext().prec)\n",
    "decimal.getcontext().prec = 6\n",
    "a + b"
   ]
  },
  {
   "cell_type": "code",
   "execution_count": 414,
   "metadata": {},
   "outputs": [
    {
     "name": "stdout",
     "output_type": "stream",
     "text": [
      "21\n",
      "20.2472\n"
     ]
    }
   ],
   "source": [
    "with decimal.localcontext() as ctx:\n",
    "    ctx.prec = 2\n",
    "    c = a + b\n",
    "    print(c)\n",
    "print(a+b)"
   ]
  },
  {
   "cell_type": "markdown",
   "metadata": {},
   "source": [
    "# Decimal: Maths Operations"
   ]
  },
  {
   "cell_type": "markdown",
   "metadata": {},
   "source": [
    "- For integers -> a//b = `floor(a/b)`\n",
    "- For Decimals -> a//b = `trunc(a/b)`"
   ]
  },
  {
   "cell_type": "markdown",
   "metadata": {},
   "source": [
    "For mathematical operations, use the operations defined in the Decimal class, otherwise it will be interpreted as a float. \n",
    "- e.g."
   ]
  },
  {
   "cell_type": "code",
   "execution_count": 415,
   "metadata": {},
   "outputs": [],
   "source": [
    "decimal.getcontext().prec = 28\n",
    "x = 0.01\n",
    "x_dec = Decimal('0.01')\n",
    "root = math.sqrt(x)\n",
    "mixed_root = math.sqrt(x_dec)\n",
    "root_dec = x_dec.sqrt()"
   ]
  },
  {
   "cell_type": "code",
   "execution_count": 416,
   "metadata": {},
   "outputs": [
    {
     "name": "stdout",
     "output_type": "stream",
     "text": [
      "0.1000000000000000055511151231\n",
      "0.1000000000000000055511151231\n",
      "0.1000000000000000000000000000\n"
     ]
    }
   ],
   "source": [
    "print(format(root,'.28f'))\n",
    "print(format(mixed_root,'.28f'))\n",
    "print(format(root_dec,'.28f'))"
   ]
  },
  {
   "cell_type": "markdown",
   "metadata": {},
   "source": [
    "# Decimals: perfomrmance considerations"
   ]
  },
  {
   "cell_type": "code",
   "execution_count": 417,
   "metadata": {},
   "outputs": [],
   "source": [
    "from decimal import Decimal"
   ]
  },
  {
   "cell_type": "code",
   "execution_count": 418,
   "metadata": {},
   "outputs": [],
   "source": [
    "import sys"
   ]
  },
  {
   "cell_type": "code",
   "execution_count": 419,
   "metadata": {},
   "outputs": [],
   "source": [
    "a = 3.1415\n",
    "b = Decimal('3.1415')"
   ]
  },
  {
   "cell_type": "code",
   "execution_count": 420,
   "metadata": {},
   "outputs": [
    {
     "data": {
      "text/plain": [
       "24"
      ]
     },
     "execution_count": 420,
     "metadata": {},
     "output_type": "execute_result"
    }
   ],
   "source": [
    "sys.getsizeof(a)"
   ]
  },
  {
   "cell_type": "code",
   "execution_count": 421,
   "metadata": {},
   "outputs": [
    {
     "data": {
      "text/plain": [
       "104"
      ]
     },
     "execution_count": 421,
     "metadata": {},
     "output_type": "execute_result"
    }
   ],
   "source": [
    "sys.getsizeof(b)"
   ]
  },
  {
   "cell_type": "markdown",
   "metadata": {},
   "source": [
    "# COmplex numbers\n",
    "\n",
    "- `complex` class\n",
    "- `.real`\n",
    "- `.imag`\n",
    "- `.conjugate()`\n",
    "- //, %, ==, !=, <, >, >=, <= and math module functions are not supported\n",
    "- `cmath` library to be used for math equivalent operations\n",
    "-----------cmath funcs-------------------\n",
    "- `.phase` -> polar angle\n",
    "- `.abs` -> polar magnitude"
   ]
  },
  {
   "cell_type": "markdown",
   "metadata": {},
   "source": [
    "# Booleans"
   ]
  },
  {
   "cell_type": "code",
   "execution_count": 422,
   "metadata": {},
   "outputs": [
    {
     "data": {
      "text/plain": [
       "True"
      ]
     },
     "execution_count": 422,
     "metadata": {},
     "output_type": "execute_result"
    }
   ],
   "source": [
    "issubclass(bool, int)"
   ]
  },
  {
   "cell_type": "code",
   "execution_count": 423,
   "metadata": {},
   "outputs": [
    {
     "data": {
      "text/plain": [
       "True"
      ]
     },
     "execution_count": 423,
     "metadata": {},
     "output_type": "execute_result"
    }
   ],
   "source": [
    "isinstance(True, int)"
   ]
  },
  {
   "cell_type": "markdown",
   "metadata": {},
   "source": [
    ">- `True` and `False` are singleton abjects, means they will be stored to a single memory address throughout the life time of the application\n",
    ">- ***But*** True and 1 (Also, 0 and False) are not the same objects!!!!"
   ]
  },
  {
   "cell_type": "markdown",
   "metadata": {},
   "source": [
    "Every class defined in python has it's truth value, means that the `bool()` constructor can be used to extract those truth values from classes and instances"
   ]
  },
  {
   "cell_type": "markdown",
   "metadata": {},
   "source": [
    "any `int` other than 0 has a truth value of `True`"
   ]
  },
  {
   "cell_type": "code",
   "execution_count": 424,
   "metadata": {},
   "outputs": [
    {
     "data": {
      "text/plain": [
       "(bool, 4310828224, 1)"
      ]
     },
     "execution_count": 424,
     "metadata": {},
     "output_type": "execute_result"
    }
   ],
   "source": [
    "type(True), id(True), int(True)"
   ]
  },
  {
   "cell_type": "code",
   "execution_count": 425,
   "metadata": {},
   "outputs": [
    {
     "data": {
      "text/plain": [
       "4310828224"
      ]
     },
     "execution_count": 425,
     "metadata": {},
     "output_type": "execute_result"
    }
   ],
   "source": [
    "id(3<4)"
   ]
  },
  {
   "cell_type": "markdown",
   "metadata": {},
   "source": [
    "Object evaluates to truthy value of `True` by default, but in some cases it's not\n",
    "\n",
    "- None\n",
    "- False\n",
    "- 0\n",
    "- emppty mapping types(dict, sets etc)\n",
    "- empty classes that implement `__bool__` or `__len__` methods that returns False or 0\n"
   ]
  },
  {
   "cell_type": "markdown",
   "metadata": {},
   "source": [
    "Truth values are defined by special methods:\n",
    "- `__bool__(self)` or `len`"
   ]
  },
  {
   "cell_type": "markdown",
   "metadata": {},
   "source": [
    "## Booleans: preceding and short circuiting"
   ]
  },
  {
   "cell_type": "markdown",
   "metadata": {},
   "source": [
    "### Operator precedence:\n",
    "- ()\n",
    "- <,>,<=, >=, !=, is, in\n",
    "- not\n",
    "- and\n",
    "- or"
   ]
  },
  {
   "cell_type": "markdown",
   "metadata": {},
   "source": [
    "X `or` Y -> return X if X is Truthy, else return Y <br>\n",
    "X `and` Y -> return X if X is Flasy, else return Y "
   ]
  },
  {
   "cell_type": "code",
   "execution_count": null,
   "metadata": {},
   "outputs": [],
   "source": []
  },
  {
   "cell_type": "markdown",
   "metadata": {},
   "source": [
    "# Function Parameters"
   ]
  },
  {
   "cell_type": "markdown",
   "metadata": {},
   "source": [
    "## Argument vs Parameter"
   ]
  },
  {
   "cell_type": "markdown",
   "metadata": {},
   "source": [
    "- Arguments are passed by reference to the function."
   ]
  },
  {
   "cell_type": "markdown",
   "metadata": {},
   "source": [
    "## Positional and keyword argument"
   ]
  },
  {
   "cell_type": "markdown",
   "metadata": {},
   "source": [
    " - `def my_func(a,b=100)` -> specified 100 as default value of b\n",
    "> If a positional parameter has a defined default value, then every parameter after it must also have a default value.\n",
    "> i.e. `def my_func(a,b=123,c)` -> is invalid!!!!\n",
    "\n",
    "### keyword arguments\n",
    "- When parameter names are used to initialise a variable as arguments while calling function it is called keyword arguments.<br>\n",
    "`def my_func(a,b=10,c=34):` <br>\n",
    "    `#code` <br>\n",
    "    `.` <br>\n",
    "    `.`<br>\n",
    "    `.`<br>\n",
    "`my_func(a=3,c=9)`    -> it is the exaple of keyword argument<br>\n",
    "\n",
    "Once, we use keyword arg. in afunction we should use them only thereafter"
   ]
  },
  {
   "cell_type": "code",
   "execution_count": 426,
   "metadata": {},
   "outputs": [],
   "source": [
    "def my_func(a,b,c):\n",
    "    print(\"{0} {1} {2}\".format(a,b,c))"
   ]
  },
  {
   "cell_type": "code",
   "execution_count": 427,
   "metadata": {},
   "outputs": [
    {
     "name": "stdout",
     "output_type": "stream",
     "text": [
      "1 2 3\n"
     ]
    }
   ],
   "source": [
    "my_func(1,2,3)"
   ]
  },
  {
   "cell_type": "code",
   "execution_count": 428,
   "metadata": {},
   "outputs": [
    {
     "ename": "SyntaxError",
     "evalue": "non-default argument follows default argument (1308480979.py, line 1)",
     "output_type": "error",
     "traceback": [
      "\u001b[0;36m  Cell \u001b[0;32mIn[428], line 1\u001b[0;36m\u001b[0m\n\u001b[0;31m    def my_func(a,b=2,c):\u001b[0m\n\u001b[0m                       ^\u001b[0m\n\u001b[0;31mSyntaxError\u001b[0m\u001b[0;31m:\u001b[0m non-default argument follows default argument\n"
     ]
    }
   ],
   "source": [
    "def my_func(a,b=2,c):\n",
    "    print(\"{0} {1} {2}\".format(a,b,c))"
   ]
  },
  {
   "cell_type": "code",
   "execution_count": null,
   "metadata": {},
   "outputs": [],
   "source": [
    "def my_func(a,b,c=2):\n",
    "    print(\"{0} {1} {2}\".format(a,b,c))"
   ]
  },
  {
   "cell_type": "code",
   "execution_count": null,
   "metadata": {},
   "outputs": [
    {
     "ename": "TypeError",
     "evalue": "my_func() missing 1 required positional argument: 'a'",
     "output_type": "error",
     "traceback": [
      "\u001b[0;31m---------------------------------------------------------------------------\u001b[0m",
      "\u001b[0;31mTypeError\u001b[0m                                 Traceback (most recent call last)",
      "Cell \u001b[0;32mIn[304], line 1\u001b[0m\n\u001b[0;32m----> 1\u001b[0m my_func(b\u001b[39m=\u001b[39;49m\u001b[39m1\u001b[39;49m)\n",
      "\u001b[0;31mTypeError\u001b[0m: my_func() missing 1 required positional argument: 'a'"
     ]
    }
   ],
   "source": [
    "my_func(b=1)"
   ]
  },
  {
   "cell_type": "markdown",
   "metadata": {},
   "source": [
    "## Unpacking iterables"
   ]
  },
  {
   "cell_type": "markdown",
   "metadata": {},
   "source": [
    "Note: In python a tuple isn't defined by a (), bt by ',' .<br>\n",
    "i.e. 1,2,3 -> is a tuple -> (1,2,3) <br>"
   ]
  },
  {
   "cell_type": "markdown",
   "metadata": {},
   "source": [
    "### packed values\n",
    "- Values stored in Strings, dictionary, lists, tuples, set - are packed value<br>\n",
    "<p>\n",
    "Infact, all iterables are packed values<br>\n",
    "unpacking is done by equating a tuple or a list containing equal numbers of variables as that of the individual elements in the iterable to be unpacked.<br>\n",
    "<p>\n",
    "\n",
    "e.g.<br>\n",
    "\n",
    "`a,b,c = [1,2,3]`\n"
   ]
  },
  {
   "cell_type": "code",
   "execution_count": null,
   "metadata": {},
   "outputs": [],
   "source": [
    "def swap(a,b):\n",
    "    b,a = a,b"
   ]
  },
  {
   "cell_type": "code",
   "execution_count": null,
   "metadata": {},
   "outputs": [],
   "source": [
    "x,y=1,2\n",
    "x,y=y,x"
   ]
  },
  {
   "cell_type": "markdown",
   "metadata": {},
   "source": [
    "In python entire RHS of a '=' is evaluated first, then it moves to LHS"
   ]
  },
  {
   "cell_type": "code",
   "execution_count": null,
   "metadata": {},
   "outputs": [
    {
     "data": {
      "text/plain": [
       "2"
      ]
     },
     "execution_count": 311,
     "metadata": {},
     "output_type": "execute_result"
    }
   ],
   "source": [
    "x\n"
   ]
  },
  {
   "cell_type": "markdown",
   "metadata": {},
   "source": [
    "Sets, dictionaries are unordered, so they'll be unpacked in different orders everytime"
   ]
  },
  {
   "cell_type": "markdown",
   "metadata": {},
   "source": [
    "unpacking incase of dictionary is done only of the keys!<br>\n",
    "and it is unordered as discussed earlier.<br>\n",
    "`dict.values()` can be used to create an iterable of the values in a dictionary<br>\n",
    "`dict.items()` gives tuple of tuples containing the key and the value<br>"
   ]
  },
  {
   "cell_type": "code",
   "execution_count": null,
   "metadata": {},
   "outputs": [],
   "source": [
    "d = ([1,2],[3,4])\n",
    "for e in d:\n",
    "    e[1]"
   ]
  },
  {
   "cell_type": "markdown",
   "metadata": {},
   "source": [
    "### * operator\n",
    "- it basically reads 'the rest'!\n",
    "- it can only be used once on the LHS of an assignment\n",
    "- it unpacks a dictionary when used inside a list. e.g. [*dict1,*dict2] = [*unpacked items of dict1 and dict2*]\n",
    "- to avoid repetitions it canm also be stored inside set. (sets doen't have repetitions)\n",
    "- It can also be interpreted as end to positional arguments in the function definition"
   ]
  },
  {
   "cell_type": "code",
   "execution_count": null,
   "metadata": {},
   "outputs": [],
   "source": [
    "#e.g.\n",
    "\n",
    "d1 = {'p':1, 'y':2, 't':3, 'h': 4}\n",
    "d2 = {'h':5}\n",
    "d3 = {'h':1, 'o':6, 'n':7}"
   ]
  },
  {
   "cell_type": "code",
   "execution_count": null,
   "metadata": {},
   "outputs": [
    {
     "data": {
      "text/plain": [
       "{'h', 'n', 'o', 'p', 't', 'y'}"
      ]
     },
     "execution_count": 315,
     "metadata": {},
     "output_type": "execute_result"
    }
   ],
   "source": [
    "d = {*d1, *d2, *d3}\n",
    "d"
   ]
  },
  {
   "cell_type": "code",
   "execution_count": null,
   "metadata": {},
   "outputs": [
    {
     "data": {
      "text/plain": [
       "[3, -99, 1]"
      ]
     },
     "execution_count": 351,
     "metadata": {},
     "output_type": "execute_result"
    }
   ],
   "source": [
    "c = [3,-99,1]\n",
    "s = ['d',10,3,-99]\n",
    "list(c)"
   ]
  },
  {
   "cell_type": "code",
   "execution_count": null,
   "metadata": {},
   "outputs": [],
   "source": [
    "*c,=s"
   ]
  },
  {
   "cell_type": "code",
   "execution_count": null,
   "metadata": {},
   "outputs": [
    {
     "data": {
      "text/plain": [
       "['d', 10, 3, -99]"
      ]
     },
     "execution_count": 353,
     "metadata": {},
     "output_type": "execute_result"
    }
   ],
   "source": [
    "c"
   ]
  },
  {
   "cell_type": "code",
   "execution_count": null,
   "metadata": {},
   "outputs": [],
   "source": [
    "def func_1(a,b,c):\n",
    "    print(a)\n",
    "    print(b)\n",
    "    print(c)"
   ]
  },
  {
   "cell_type": "code",
   "execution_count": null,
   "metadata": {},
   "outputs": [
    {
     "ename": "TypeError",
     "evalue": "func_1() missing 2 required positional arguments: 'b' and 'c'",
     "output_type": "error",
     "traceback": [
      "\u001b[0;31m---------------------------------------------------------------------------\u001b[0m",
      "\u001b[0;31mTypeError\u001b[0m                                 Traceback (most recent call last)",
      "Cell \u001b[0;32mIn[38], line 2\u001b[0m\n\u001b[1;32m      1\u001b[0m l \u001b[39m=\u001b[39m [\u001b[39m1\u001b[39m,\u001b[39m2\u001b[39m,\u001b[39m3\u001b[39m]\n\u001b[0;32m----> 2\u001b[0m func_1(l)\n",
      "\u001b[0;31mTypeError\u001b[0m: func_1() missing 2 required positional arguments: 'b' and 'c'"
     ]
    }
   ],
   "source": [
    "l = [1,2,3]\n",
    "func_1(l)"
   ]
  },
  {
   "cell_type": "markdown",
   "metadata": {},
   "source": [
    "> - * can be used to unpack list and pass it as an argument to a function."
   ]
  },
  {
   "cell_type": "code",
   "execution_count": null,
   "metadata": {},
   "outputs": [
    {
     "name": "stdout",
     "output_type": "stream",
     "text": [
      "1\n",
      "2\n",
      "3\n"
     ]
    }
   ],
   "source": [
    "l = [1,2,3]\n",
    "func_1(*l)"
   ]
  },
  {
   "cell_type": "markdown",
   "metadata": {},
   "source": [
    "### ** operator\n",
    "- It cannot be used in the LHS of an expression.\n",
    "- It basically, used to merge 2 or more dictionaries.\n",
    "- incase of repeating keys, the key present in the last dictionary to be unpacked is considered.\n",
    "- It is also used to scoop up the keyword arguments when used for passing parameter in the function definition"
   ]
  },
  {
   "cell_type": "code",
   "execution_count": null,
   "metadata": {},
   "outputs": [],
   "source": [
    "#e.g.\n",
    "\n",
    "d1 = {'p':1, 'y':2, 't':3, 'h': 4}\n",
    "d2 = {'h':5}\n",
    "d3 = {'h':1, 'o':6, 'n':7}"
   ]
  },
  {
   "cell_type": "code",
   "execution_count": null,
   "metadata": {},
   "outputs": [
    {
     "data": {
      "text/plain": [
       "{'p': 1, 'y': 2, 't': 3, 'h': 1, 'o': 6, 'n': 7}"
      ]
     },
     "execution_count": 67,
     "metadata": {},
     "output_type": "execute_result"
    }
   ],
   "source": [
    "d = {**d1, **d2, **d3}\n",
    "d"
   ]
  },
  {
   "cell_type": "markdown",
   "metadata": {},
   "source": [
    "### Nested unpacking"
   ]
  },
  {
   "cell_type": "code",
   "execution_count": null,
   "metadata": {},
   "outputs": [],
   "source": [
    "#e.g.\n",
    "\n",
    "a,b,(c,d) = [1,2,[3,4]]"
   ]
  },
  {
   "cell_type": "code",
   "execution_count": null,
   "metadata": {},
   "outputs": [
    {
     "data": {
      "text/plain": [
       "(1, 2, 3, 4)"
      ]
     },
     "execution_count": 317,
     "metadata": {},
     "output_type": "execute_result"
    }
   ],
   "source": [
    "a,b,c,d\n"
   ]
  },
  {
   "cell_type": "markdown",
   "metadata": {},
   "source": [
    "#### exception "
   ]
  },
  {
   "cell_type": "code",
   "execution_count": null,
   "metadata": {},
   "outputs": [],
   "source": [
    "a, *b, (c, *d) = [1,2,3,4,'python']\n"
   ]
  },
  {
   "cell_type": "code",
   "execution_count": null,
   "metadata": {},
   "outputs": [
    {
     "data": {
      "text/plain": [
       "(1, [2, 3, 4], 'p', ['y', 't', 'h', 'o', 'n'])"
      ]
     },
     "execution_count": 320,
     "metadata": {},
     "output_type": "execute_result"
    }
   ],
   "source": [
    "a,b,c,d"
   ]
  },
  {
   "cell_type": "code",
   "execution_count": null,
   "metadata": {},
   "outputs": [],
   "source": [
    "#slicing\n",
    "\n",
    "l = [1,2,3,4,'python']\n",
    "\n",
    "a,*b,(c,*d) = l[0],l[1:4], l[4][0], l[4][1:]"
   ]
  },
  {
   "cell_type": "code",
   "execution_count": null,
   "metadata": {},
   "outputs": [],
   "source": [
    "a = l[0]\n",
    "b = l[1:4]\n",
    "c = l[4][0]\n",
    "d = l[4][1:]\n"
   ]
  },
  {
   "cell_type": "code",
   "execution_count": null,
   "metadata": {},
   "outputs": [
    {
     "data": {
      "text/plain": [
       "(1, [2, 3, 4], 'p', 'ython')"
      ]
     },
     "execution_count": 342,
     "metadata": {},
     "output_type": "execute_result"
    }
   ],
   "source": [
    "a,b,c,d"
   ]
  },
  {
   "cell_type": "markdown",
   "metadata": {},
   "source": [
    "* & ** operators cannot be used for unordered iterables"
   ]
  },
  {
   "cell_type": "markdown",
   "metadata": {},
   "source": [
    "## *args"
   ]
  },
  {
   "cell_type": "code",
   "execution_count": null,
   "metadata": {},
   "outputs": [],
   "source": [
    "def hunc_1(a,b,*args):\n",
    "    print(a)\n",
    "    print(b)\n",
    "    print(args)\n"
   ]
  },
  {
   "cell_type": "code",
   "execution_count": null,
   "metadata": {},
   "outputs": [
    {
     "name": "stdout",
     "output_type": "stream",
     "text": [
      "10\n",
      "20\n",
      "()\n"
     ]
    }
   ],
   "source": [
    "hunc_1(10,20)"
   ]
  },
  {
   "cell_type": "code",
   "execution_count": null,
   "metadata": {},
   "outputs": [
    {
     "name": "stdout",
     "output_type": "stream",
     "text": [
      "1\n",
      "2\n",
      "(3, 4, 5, 6, 7, 8, 89, 7, 6655)\n"
     ]
    }
   ],
   "source": [
    "hunc_1(1,2,3,4,5,6,7,8,89,7,6655)"
   ]
  },
  {
   "cell_type": "code",
   "execution_count": null,
   "metadata": {},
   "outputs": [],
   "source": [
    "def avg(*args):\n",
    "    if len(args) > 0:\n",
    "        return sum(args)/len(args)\n",
    "    elif len(args) == 0:\n",
    "        return 0"
   ]
  },
  {
   "cell_type": "code",
   "execution_count": null,
   "metadata": {},
   "outputs": [
    {
     "name": "stdout",
     "output_type": "stream",
     "text": [
      "0\n"
     ]
    }
   ],
   "source": [
    "print(avg())"
   ]
  },
  {
   "cell_type": "code",
   "execution_count": null,
   "metadata": {},
   "outputs": [],
   "source": [
    "def avg(a,*args):\n",
    "    return sum(1+args)/(len(args)+1)"
   ]
  },
  {
   "cell_type": "code",
   "execution_count": null,
   "metadata": {},
   "outputs": [
    {
     "name": "stdout",
     "output_type": "stream",
     "text": [
      "0.0\n"
     ]
    }
   ],
   "source": [
    "print(avg(1))"
   ]
  },
  {
   "cell_type": "markdown",
   "metadata": {},
   "source": [
    "## Keyword Arguments"
   ]
  },
  {
   "cell_type": "code",
   "execution_count": null,
   "metadata": {},
   "outputs": [],
   "source": [
    "def func(a,b,c):\n",
    "    print(a,b,c)"
   ]
  },
  {
   "cell_type": "code",
   "execution_count": null,
   "metadata": {},
   "outputs": [
    {
     "name": "stdout",
     "output_type": "stream",
     "text": [
      "1 2 3\n"
     ]
    }
   ],
   "source": [
    "func(1,2,3)"
   ]
  },
  {
   "cell_type": "code",
   "execution_count": null,
   "metadata": {},
   "outputs": [
    {
     "name": "stdout",
     "output_type": "stream",
     "text": [
      "2 3 1\n"
     ]
    }
   ],
   "source": [
    "func(c=1,a=2,b=3)"
   ]
  },
  {
   "cell_type": "code",
   "execution_count": null,
   "metadata": {},
   "outputs": [
    {
     "name": "stdout",
     "output_type": "stream",
     "text": [
      "2 4 3\n"
     ]
    }
   ],
   "source": [
    "func(2,c=3,b=4)"
   ]
  },
  {
   "cell_type": "code",
   "execution_count": null,
   "metadata": {},
   "outputs": [],
   "source": [
    "def func(a,b,*args):\n",
    "    print(a,b,args)"
   ]
  },
  {
   "cell_type": "code",
   "execution_count": null,
   "metadata": {},
   "outputs": [
    {
     "name": "stdout",
     "output_type": "stream",
     "text": [
      "1 2 (3, 4, 5, 67)\n"
     ]
    }
   ],
   "source": [
    "func(1,2,3,4,5,67)"
   ]
  },
  {
   "cell_type": "code",
   "execution_count": null,
   "metadata": {},
   "outputs": [],
   "source": [
    "def func(a,b,*args,d):\n",
    "    print(a,b,args,d)"
   ]
  },
  {
   "cell_type": "markdown",
   "metadata": {},
   "source": [
    "This makes d as a mandatory keyword argument.<br>\n",
    "It's because, * specifies end of positional argumnets"
   ]
  },
  {
   "cell_type": "code",
   "execution_count": null,
   "metadata": {},
   "outputs": [
    {
     "name": "stdout",
     "output_type": "stream",
     "text": [
      "1 2 (3, 4, 5, 6) 7\n"
     ]
    }
   ],
   "source": [
    "func(1,2,3,4,5,6,d = 7)"
   ]
  },
  {
   "cell_type": "code",
   "execution_count": null,
   "metadata": {},
   "outputs": [],
   "source": [
    "def func(a,b,*,d):\n",
    "    print(a,b,d)"
   ]
  },
  {
   "cell_type": "markdown",
   "metadata": {},
   "source": [
    "- This limited the positional arguments that can be passed to a function to 2, and added a compulsory keyword argument."
   ]
  },
  {
   "cell_type": "code",
   "execution_count": null,
   "metadata": {},
   "outputs": [
    {
     "name": "stdout",
     "output_type": "stream",
     "text": [
      "1 2 5\n"
     ]
    }
   ],
   "source": [
    "func(1,2,d=5)"
   ]
  },
  {
   "cell_type": "code",
   "execution_count": null,
   "metadata": {},
   "outputs": [
    {
     "ename": "TypeError",
     "evalue": "func() takes 2 positional arguments but 5 positional arguments (and 1 keyword-only argument) were given",
     "output_type": "error",
     "traceback": [
      "\u001b[0;31m---------------------------------------------------------------------------\u001b[0m",
      "\u001b[0;31mTypeError\u001b[0m                                 Traceback (most recent call last)",
      "Cell \u001b[0;32mIn[56], line 1\u001b[0m\n\u001b[0;32m----> 1\u001b[0m func(\u001b[39m1\u001b[39;49m,\u001b[39m2\u001b[39;49m,\u001b[39m3\u001b[39;49m,\u001b[39m4\u001b[39;49m,\u001b[39m5\u001b[39;49m,d\u001b[39m=\u001b[39;49m\u001b[39m6\u001b[39;49m)\n",
      "\u001b[0;31mTypeError\u001b[0m: func() takes 2 positional arguments but 5 positional arguments (and 1 keyword-only argument) were given"
     ]
    }
   ],
   "source": [
    "func(1,2,3,4,5,d=6)"
   ]
  },
  {
   "cell_type": "code",
   "execution_count": null,
   "metadata": {},
   "outputs": [],
   "source": [
    "def func(*args,d):\n",
    "    print(args, d)"
   ]
  },
  {
   "cell_type": "markdown",
   "metadata": {},
   "source": [
    "- This gives a free hand to the function to take as many positional arguments as possible, but a certain Keyword argument is compulsory"
   ]
  },
  {
   "cell_type": "code",
   "execution_count": null,
   "metadata": {},
   "outputs": [
    {
     "ename": "TypeError",
     "evalue": "func() missing 1 required keyword-only argument: 'd'",
     "output_type": "error",
     "traceback": [
      "\u001b[0;31m---------------------------------------------------------------------------\u001b[0m",
      "\u001b[0;31mTypeError\u001b[0m                                 Traceback (most recent call last)",
      "Cell \u001b[0;32mIn[59], line 1\u001b[0m\n\u001b[0;32m----> 1\u001b[0m func(\u001b[39m1\u001b[39;49m,\u001b[39m2\u001b[39;49m,\u001b[39m3\u001b[39;49m,\u001b[39m4\u001b[39;49m,\u001b[39m5\u001b[39;49m,\u001b[39m6\u001b[39;49m)\n",
      "\u001b[0;31mTypeError\u001b[0m: func() missing 1 required keyword-only argument: 'd'"
     ]
    }
   ],
   "source": [
    "func(1,2,3,4,5,6)"
   ]
  },
  {
   "cell_type": "code",
   "execution_count": null,
   "metadata": {},
   "outputs": [
    {
     "name": "stdout",
     "output_type": "stream",
     "text": [
      "(1, 2, 3, 4, 5) 6\n"
     ]
    }
   ],
   "source": [
    "func(1,2,3,4,5,d = 6)"
   ]
  },
  {
   "cell_type": "code",
   "execution_count": null,
   "metadata": {},
   "outputs": [
    {
     "name": "stdout",
     "output_type": "stream",
     "text": [
      "() 9\n"
     ]
    }
   ],
   "source": [
    "func(d=9)"
   ]
  },
  {
   "cell_type": "code",
   "execution_count": null,
   "metadata": {},
   "outputs": [],
   "source": [
    "def func(*,d):\n",
    "    print(d)"
   ]
  },
  {
   "cell_type": "markdown",
   "metadata": {},
   "source": [
    "- This limits the permitted positional arguments = 0, and added a compulory Keyword Argument."
   ]
  },
  {
   "cell_type": "markdown",
   "metadata": {},
   "source": [
    "- while using * in parameters while defining a function, we can use undefaulted parameter after '*', even if any parameter before '*' are defaulted."
   ]
  },
  {
   "cell_type": "code",
   "execution_count": null,
   "metadata": {},
   "outputs": [],
   "source": [
    "def func(a,b=5,*,c):\n",
    "    print(a,b,c)"
   ]
  },
  {
   "cell_type": "code",
   "execution_count": null,
   "metadata": {},
   "outputs": [
    {
     "name": "stdout",
     "output_type": "stream",
     "text": [
      "1 5 90\n"
     ]
    }
   ],
   "source": [
    "func(1,c=90)"
   ]
  },
  {
   "cell_type": "markdown",
   "metadata": {},
   "source": [
    "## **args"
   ]
  },
  {
   "cell_type": "markdown",
   "metadata": {},
   "source": [
    " - '`*`' is used to scoop up positional arguments, and '`**`' is used to scoop up the keyword arguments\n",
    " - Unlike * operator to scoop positional arguments, there is no need to to exhaust all keyword arguments before scooping the remaining keyword args.\n",
    "- No parameters come after arg.\n",
    "- `kwargs` will be a `dictionary`"
   ]
  },
  {
   "cell_type": "code",
   "execution_count": null,
   "metadata": {},
   "outputs": [],
   "source": [
    "def func(**kwargs):\n",
    "    print(kwargs)"
   ]
  },
  {
   "cell_type": "code",
   "execution_count": null,
   "metadata": {},
   "outputs": [
    {
     "name": "stdout",
     "output_type": "stream",
     "text": [
      "{'a': 1, 'b': 2, 'c': 3, 'd': 4}\n"
     ]
    }
   ],
   "source": [
    "func(a=1,b=2,c=3,d=4)"
   ]
  },
  {
   "cell_type": "code",
   "execution_count": null,
   "metadata": {},
   "outputs": [],
   "source": [
    "def func(*args, **kwargs):\n",
    "    print(args)\n",
    "    print(kwargs)"
   ]
  },
  {
   "cell_type": "code",
   "execution_count": null,
   "metadata": {},
   "outputs": [
    {
     "name": "stdout",
     "output_type": "stream",
     "text": [
      "(1, 2, 3, 4, 5, 6)\n",
      "{'f': 765, 'a': 43}\n"
     ]
    }
   ],
   "source": [
    "func(1,2,3,4,5,6,f=765,a=43)"
   ]
  },
  {
   "cell_type": "code",
   "execution_count": null,
   "metadata": {},
   "outputs": [],
   "source": [
    "def func(a,b,*,d,**args):\n",
    "    print(a)\n",
    "    print(b)\n",
    "    print(d)\n",
    "    print(args)"
   ]
  },
  {
   "cell_type": "code",
   "execution_count": null,
   "metadata": {},
   "outputs": [
    {
     "name": "stdout",
     "output_type": "stream",
     "text": [
      "1\n",
      "2\n",
      "3\n",
      "{'g': 7, 'h': 200}\n"
     ]
    }
   ],
   "source": [
    "func(1,2,d=3,g=7, h=200)"
   ]
  },
  {
   "cell_type": "code",
   "execution_count": null,
   "metadata": {},
   "outputs": [],
   "source": [
    "def func(a,b,**args):\n",
    "    print(a,b,args)"
   ]
  },
  {
   "cell_type": "code",
   "execution_count": null,
   "metadata": {},
   "outputs": [
    {
     "name": "stdout",
     "output_type": "stream",
     "text": [
      "1 2 {'p': 3, 'q': 5, 'g': 98}\n"
     ]
    }
   ],
   "source": [
    "func(1,2,p=3,q=5,g=98)"
   ]
  },
  {
   "cell_type": "code",
   "execution_count": null,
   "metadata": {},
   "outputs": [],
   "source": [
    "def func(a,b,*args,d,e,**kvargs):\n",
    "    print(a)\n",
    "    print(b)\n",
    "    print(args)\n",
    "    print(d)\n",
    "    print(e)\n",
    "    print(kvargs)"
   ]
  },
  {
   "cell_type": "code",
   "execution_count": null,
   "metadata": {},
   "outputs": [
    {
     "name": "stdout",
     "output_type": "stream",
     "text": [
      "1\n",
      "2\n",
      "(3, 4, 5, 6, 7)\n",
      "2210\n",
      "prime\n",
      "{'r': 567, 'name': 'tanay', 'surname': 'Vekariya', 'roll': 3407}\n"
     ]
    }
   ],
   "source": [
    "func(1,2,3,4,5,6,7,r=567,name='tanay', surname = 'Vekariya' ,d=2210, roll = 3407,e='prime')"
   ]
  },
  {
   "cell_type": "markdown",
   "metadata": {},
   "source": [
    "`print(value, ..., sep=' ', end='\\n', file=sys.stdout, flush=False)`"
   ]
  },
  {
   "cell_type": "code",
   "execution_count": null,
   "metadata": {},
   "outputs": [
    {
     "name": "stdout",
     "output_type": "stream",
     "text": [
      "1 and 2 and 3  bye bye"
     ]
    }
   ],
   "source": [
    "print(1,2,3,sep=' and ', end= '  bye bye')"
   ]
  },
  {
   "cell_type": "code",
   "execution_count": null,
   "metadata": {},
   "outputs": [],
   "source": [
    "def func(a, b, *args):\n",
    "    print(a,b,args)"
   ]
  },
  {
   "cell_type": "code",
   "execution_count": null,
   "metadata": {},
   "outputs": [
    {
     "name": "stdout",
     "output_type": "stream",
     "text": [
      "1 2 (3, 'x', 'y', 'z')\n"
     ]
    }
   ],
   "source": [
    "func(1,2,3,'x','y','z')"
   ]
  },
  {
   "cell_type": "markdown",
   "metadata": {},
   "source": [
    "- when calling a function, one cannot use positional args after using keyword args\n",
    "- but kwargs can be used"
   ]
  },
  {
   "cell_type": "code",
   "execution_count": null,
   "metadata": {},
   "outputs": [],
   "source": [
    "def func(a, b, c, *args):\n",
    "    print(a,b,c,args)\n",
    "    "
   ]
  },
  {
   "cell_type": "markdown",
   "metadata": {},
   "source": [
    "- When used default positional args, with *args, flexibility of "
   ]
  },
  {
   "cell_type": "code",
   "execution_count": null,
   "metadata": {},
   "outputs": [
    {
     "ename": "SyntaxError",
     "evalue": "positional argument follows keyword argument (3014358902.py, line 1)",
     "output_type": "error",
     "traceback": [
      "\u001b[0;36m  Cell \u001b[0;32mIn[94], line 1\u001b[0;36m\u001b[0m\n\u001b[0;31m    func(1,c=3,6,7)\u001b[0m\n\u001b[0m                  ^\u001b[0m\n\u001b[0;31mSyntaxError\u001b[0m\u001b[0;31m:\u001b[0m positional argument follows keyword argument\n"
     ]
    }
   ],
   "source": [
    "func(1,c=3,6,7)"
   ]
  },
  {
   "cell_type": "code",
   "execution_count": null,
   "metadata": {},
   "outputs": [
    {
     "name": "stdout",
     "output_type": "stream",
     "text": [
      "39457\n"
     ]
    }
   ],
   "source": [
    "print(1 and 39457)\n"
   ]
  },
  {
   "cell_type": "code",
   "execution_count": null,
   "metadata": {},
   "outputs": [],
   "source": [
    "def time_it(fn,*args, rep = 5, **kwargs):\n",
    "    import time\n",
    "    start = time.perf_counter()\n",
    "    for i in range(rep):\n",
    "        fn(*args,**kwargs) \n",
    "    end = time.perf_counter()\n",
    "    print('time taken is',end-start)"
   ]
  },
  {
   "cell_type": "code",
   "execution_count": null,
   "metadata": {},
   "outputs": [
    {
     "name": "stdout",
     "output_type": "stream",
     "text": [
      "Help on built-in function print in module builtins:\n",
      "\n",
      "print(...)\n",
      "    print(value, ..., sep=' ', end='\\n', file=sys.stdout, flush=False)\n",
      "    \n",
      "    Prints the values to a stream, or to sys.stdout by default.\n",
      "    Optional keyword arguments:\n",
      "    file:  a file-like object (stream); defaults to the current sys.stdout.\n",
      "    sep:   string inserted between values, default a space.\n",
      "    end:   string appended after the last value, default a newline.\n",
      "    flush: whether to forcibly flush the stream.\n",
      "\n"
     ]
    }
   ],
   "source": [
    "help(print)"
   ]
  },
  {
   "cell_type": "code",
   "execution_count": null,
   "metadata": {},
   "outputs": [
    {
     "name": "stdout",
     "output_type": "stream",
     "text": [
      "1-2-3-4***\n",
      "1-2-3-4***\n",
      "1-2-3-4***\n",
      "1-2-3-4***\n",
      "1-2-3-4***\n",
      "1-2-3-4***\n",
      "1-2-3-4***\n",
      "1-2-3-4***\n",
      "1-2-3-4***\n",
      "1-2-3-4***\n",
      "1-2-3-4***\n",
      "1-2-3-4***\n",
      "1-2-3-4***\n",
      "1-2-3-4***\n",
      "1-2-3-4***\n",
      "1-2-3-4***\n",
      "1-2-3-4***\n",
      "1-2-3-4***\n",
      "1-2-3-4***\n",
      "1-2-3-4***\n",
      "1-2-3-4***\n",
      "1-2-3-4***\n",
      "1-2-3-4***\n",
      "1-2-3-4***\n",
      "1-2-3-4***\n",
      "1-2-3-4***\n",
      "1-2-3-4***\n",
      "1-2-3-4***\n",
      "1-2-3-4***\n",
      "1-2-3-4***\n",
      "1-2-3-4***\n",
      "1-2-3-4***\n",
      "1-2-3-4***\n",
      "1-2-3-4***\n",
      "1-2-3-4***\n",
      "1-2-3-4***\n",
      "1-2-3-4***\n",
      "1-2-3-4***\n",
      "1-2-3-4***\n",
      "1-2-3-4***\n",
      "1-2-3-4***\n",
      "1-2-3-4***\n",
      "1-2-3-4***\n",
      "1-2-3-4***\n",
      "1-2-3-4***\n",
      "1-2-3-4***\n",
      "1-2-3-4***\n",
      "1-2-3-4***\n",
      "1-2-3-4***\n",
      "1-2-3-4***\n",
      "1-2-3-4***\n",
      "1-2-3-4***\n",
      "1-2-3-4***\n",
      "1-2-3-4***\n",
      "1-2-3-4***\n",
      "1-2-3-4***\n",
      "1-2-3-4***\n",
      "1-2-3-4***\n",
      "1-2-3-4***\n",
      "1-2-3-4***\n",
      "1-2-3-4***\n",
      "1-2-3-4***\n",
      "1-2-3-4***\n",
      "1-2-3-4***\n",
      "1-2-3-4***\n",
      "1-2-3-4***\n",
      "1-2-3-4***\n",
      "1-2-3-4***\n",
      "1-2-3-4***\n",
      "1-2-3-4***\n",
      "1-2-3-4***\n",
      "1-2-3-4***\n",
      "1-2-3-4***\n",
      "1-2-3-4***\n",
      "1-2-3-4***\n",
      "1-2-3-4***\n",
      "1-2-3-4***\n",
      "1-2-3-4***\n",
      "1-2-3-4***\n",
      "1-2-3-4***\n",
      "1-2-3-4***\n",
      "1-2-3-4***\n",
      "1-2-3-4***\n",
      "1-2-3-4***\n",
      "1-2-3-4***\n",
      "1-2-3-4***\n",
      "1-2-3-4***\n",
      "1-2-3-4***\n",
      "1-2-3-4***\n",
      "1-2-3-4***\n",
      "1-2-3-4***\n",
      "1-2-3-4***\n",
      "1-2-3-4***\n",
      "1-2-3-4***\n",
      "1-2-3-4***\n",
      "1-2-3-4***\n",
      "1-2-3-4***\n",
      "1-2-3-4***\n",
      "1-2-3-4***\n",
      "1-2-3-4***\n",
      "1-2-3-4***\n",
      "1-2-3-4***\n",
      "1-2-3-4***\n",
      "1-2-3-4***\n",
      "1-2-3-4***\n",
      "1-2-3-4***\n",
      "1-2-3-4***\n",
      "1-2-3-4***\n",
      "1-2-3-4***\n",
      "1-2-3-4***\n",
      "1-2-3-4***\n",
      "1-2-3-4***\n",
      "1-2-3-4***\n",
      "1-2-3-4***\n",
      "1-2-3-4***\n",
      "1-2-3-4***\n",
      "1-2-3-4***\n",
      "1-2-3-4***\n",
      "1-2-3-4***\n",
      "1-2-3-4***\n",
      "1-2-3-4***\n",
      "1-2-3-4***\n",
      "1-2-3-4***\n",
      "1-2-3-4***\n",
      "1-2-3-4***\n",
      "1-2-3-4***\n",
      "1-2-3-4***\n",
      "1-2-3-4***\n",
      "1-2-3-4***\n",
      "1-2-3-4***\n",
      "1-2-3-4***\n",
      "1-2-3-4***\n",
      "1-2-3-4***\n",
      "1-2-3-4***\n",
      "1-2-3-4***\n",
      "1-2-3-4***\n",
      "1-2-3-4***\n",
      "1-2-3-4***\n",
      "1-2-3-4***\n",
      "1-2-3-4***\n",
      "1-2-3-4***\n",
      "1-2-3-4***\n",
      "1-2-3-4***\n",
      "1-2-3-4***\n",
      "1-2-3-4***\n",
      "1-2-3-4***\n",
      "1-2-3-4***\n",
      "1-2-3-4***\n",
      "1-2-3-4***\n",
      "1-2-3-4***\n",
      "1-2-3-4***\n",
      "1-2-3-4***\n",
      "1-2-3-4***\n",
      "1-2-3-4***\n",
      "1-2-3-4***\n",
      "1-2-3-4***\n",
      "1-2-3-4***\n",
      "1-2-3-4***\n",
      "1-2-3-4***\n",
      "1-2-3-4***\n",
      "1-2-3-4***\n",
      "1-2-3-4***\n",
      "1-2-3-4***\n",
      "1-2-3-4***\n",
      "1-2-3-4***\n",
      "1-2-3-4***\n",
      "1-2-3-4***\n",
      "1-2-3-4***\n",
      "1-2-3-4***\n",
      "1-2-3-4***\n",
      "1-2-3-4***\n",
      "1-2-3-4***\n",
      "1-2-3-4***\n",
      "1-2-3-4***\n",
      "1-2-3-4***\n",
      "1-2-3-4***\n",
      "1-2-3-4***\n",
      "1-2-3-4***\n",
      "1-2-3-4***\n",
      "1-2-3-4***\n",
      "1-2-3-4***\n",
      "1-2-3-4***\n",
      "1-2-3-4***\n",
      "1-2-3-4***\n",
      "1-2-3-4***\n",
      "1-2-3-4***\n",
      "1-2-3-4***\n",
      "1-2-3-4***\n",
      "1-2-3-4***\n",
      "1-2-3-4***\n",
      "1-2-3-4***\n",
      "1-2-3-4***\n",
      "1-2-3-4***\n",
      "1-2-3-4***\n",
      "1-2-3-4***\n",
      "1-2-3-4***\n",
      "1-2-3-4***\n",
      "1-2-3-4***\n",
      "1-2-3-4***\n",
      "1-2-3-4***\n",
      "1-2-3-4***\n",
      "1-2-3-4***\n",
      "1-2-3-4***\n",
      "1-2-3-4***\n",
      "1-2-3-4***\n",
      "1-2-3-4***\n",
      "1-2-3-4***\n",
      "1-2-3-4***\n",
      "1-2-3-4***\n",
      "1-2-3-4***\n",
      "1-2-3-4***\n",
      "1-2-3-4***\n",
      "1-2-3-4***\n",
      "1-2-3-4***\n",
      "1-2-3-4***\n",
      "1-2-3-4***\n",
      "1-2-3-4***\n",
      "1-2-3-4***\n",
      "1-2-3-4***\n",
      "1-2-3-4***\n",
      "1-2-3-4***\n",
      "1-2-3-4***\n",
      "1-2-3-4***\n",
      "1-2-3-4***\n",
      "1-2-3-4***\n",
      "1-2-3-4***\n",
      "1-2-3-4***\n",
      "1-2-3-4***\n",
      "1-2-3-4***\n",
      "1-2-3-4***\n",
      "1-2-3-4***\n",
      "1-2-3-4***\n",
      "1-2-3-4***\n",
      "1-2-3-4***\n",
      "1-2-3-4***\n",
      "1-2-3-4***\n",
      "1-2-3-4***\n",
      "1-2-3-4***\n",
      "1-2-3-4***\n",
      "1-2-3-4***\n",
      "1-2-3-4***\n",
      "1-2-3-4***\n",
      "1-2-3-4***\n",
      "1-2-3-4***\n",
      "1-2-3-4***\n",
      "1-2-3-4***\n",
      "1-2-3-4***\n",
      "1-2-3-4***\n",
      "1-2-3-4***\n",
      "1-2-3-4***\n",
      "1-2-3-4***\n",
      "1-2-3-4***\n",
      "1-2-3-4***\n",
      "1-2-3-4***\n",
      "1-2-3-4***\n",
      "1-2-3-4***\n",
      "1-2-3-4***\n",
      "1-2-3-4***\n",
      "1-2-3-4***\n",
      "1-2-3-4***\n",
      "1-2-3-4***\n",
      "1-2-3-4***\n",
      "1-2-3-4***\n",
      "1-2-3-4***\n",
      "1-2-3-4***\n",
      "1-2-3-4***\n",
      "1-2-3-4***\n",
      "1-2-3-4***\n",
      "1-2-3-4***\n",
      "1-2-3-4***\n",
      "1-2-3-4***\n",
      "1-2-3-4***\n",
      "1-2-3-4***\n",
      "1-2-3-4***\n",
      "1-2-3-4***\n",
      "1-2-3-4***\n",
      "1-2-3-4***\n",
      "1-2-3-4***\n",
      "1-2-3-4***\n",
      "1-2-3-4***\n",
      "1-2-3-4***\n",
      "1-2-3-4***\n",
      "1-2-3-4***\n",
      "1-2-3-4***\n",
      "1-2-3-4***\n",
      "1-2-3-4***\n",
      "1-2-3-4***\n",
      "1-2-3-4***\n",
      "1-2-3-4***\n",
      "1-2-3-4***\n",
      "1-2-3-4***\n",
      "1-2-3-4***\n",
      "1-2-3-4***\n",
      "1-2-3-4***\n",
      "1-2-3-4***\n",
      "1-2-3-4***\n",
      "1-2-3-4***\n",
      "1-2-3-4***\n",
      "1-2-3-4***\n",
      "1-2-3-4***\n",
      "1-2-3-4***\n",
      "1-2-3-4***\n",
      "1-2-3-4***\n",
      "1-2-3-4***\n",
      "1-2-3-4***\n",
      "1-2-3-4***\n",
      "1-2-3-4***\n",
      "1-2-3-4***\n",
      "1-2-3-4***\n",
      "1-2-3-4***\n",
      "1-2-3-4***\n",
      "1-2-3-4***\n",
      "1-2-3-4***\n",
      "1-2-3-4***\n",
      "1-2-3-4***\n",
      "1-2-3-4***\n",
      "1-2-3-4***\n",
      "1-2-3-4***\n",
      "1-2-3-4***\n",
      "1-2-3-4***\n",
      "1-2-3-4***\n",
      "1-2-3-4***\n",
      "1-2-3-4***\n",
      "1-2-3-4***\n",
      "1-2-3-4***\n",
      "1-2-3-4***\n",
      "1-2-3-4***\n",
      "1-2-3-4***\n",
      "1-2-3-4***\n",
      "1-2-3-4***\n",
      "1-2-3-4***\n",
      "1-2-3-4***\n",
      "1-2-3-4***\n",
      "1-2-3-4***\n",
      "1-2-3-4***\n",
      "1-2-3-4***\n",
      "1-2-3-4***\n",
      "1-2-3-4***\n",
      "1-2-3-4***\n",
      "1-2-3-4***\n",
      "1-2-3-4***\n",
      "1-2-3-4***\n",
      "1-2-3-4***\n",
      "1-2-3-4***\n",
      "1-2-3-4***\n",
      "1-2-3-4***\n",
      "1-2-3-4***\n",
      "1-2-3-4***\n",
      "1-2-3-4***\n",
      "1-2-3-4***\n",
      "1-2-3-4***\n",
      "1-2-3-4***\n",
      "1-2-3-4***\n",
      "1-2-3-4***\n",
      "1-2-3-4***\n",
      "1-2-3-4***\n",
      "1-2-3-4***\n",
      "1-2-3-4***\n",
      "1-2-3-4***\n",
      "1-2-3-4***\n",
      "1-2-3-4***\n",
      "1-2-3-4***\n",
      "1-2-3-4***\n",
      "1-2-3-4***\n",
      "1-2-3-4***\n",
      "1-2-3-4***\n",
      "1-2-3-4***\n",
      "1-2-3-4***\n",
      "1-2-3-4***\n",
      "1-2-3-4***\n",
      "1-2-3-4***\n",
      "1-2-3-4***\n",
      "1-2-3-4***\n",
      "1-2-3-4***\n",
      "1-2-3-4***\n",
      "1-2-3-4***\n",
      "1-2-3-4***\n",
      "1-2-3-4***\n",
      "1-2-3-4***\n",
      "1-2-3-4***\n",
      "1-2-3-4***\n",
      "1-2-3-4***\n",
      "1-2-3-4***\n",
      "1-2-3-4***\n",
      "1-2-3-4***\n",
      "1-2-3-4***\n",
      "1-2-3-4***\n",
      "1-2-3-4***\n",
      "1-2-3-4***\n",
      "1-2-3-4***\n",
      "1-2-3-4***\n",
      "1-2-3-4***\n",
      "1-2-3-4***\n",
      "1-2-3-4***\n",
      "1-2-3-4***\n",
      "1-2-3-4***\n",
      "1-2-3-4***\n",
      "1-2-3-4***\n",
      "1-2-3-4***\n",
      "1-2-3-4***\n",
      "1-2-3-4***\n",
      "1-2-3-4***\n",
      "1-2-3-4***\n",
      "1-2-3-4***\n",
      "1-2-3-4***\n",
      "1-2-3-4***\n",
      "1-2-3-4***\n",
      "1-2-3-4***\n",
      "1-2-3-4***\n",
      "1-2-3-4***\n",
      "1-2-3-4***\n",
      "1-2-3-4***\n",
      "1-2-3-4***\n",
      "1-2-3-4***\n",
      "1-2-3-4***\n",
      "1-2-3-4***\n",
      "1-2-3-4***\n",
      "1-2-3-4***\n",
      "1-2-3-4***\n",
      "1-2-3-4***\n",
      "1-2-3-4***\n",
      "1-2-3-4***\n",
      "1-2-3-4***\n",
      "1-2-3-4***\n",
      "1-2-3-4***\n",
      "1-2-3-4***\n",
      "1-2-3-4***\n",
      "1-2-3-4***\n",
      "1-2-3-4***\n",
      "1-2-3-4***\n",
      "1-2-3-4***\n",
      "1-2-3-4***\n",
      "1-2-3-4***\n",
      "1-2-3-4***\n",
      "1-2-3-4***\n",
      "1-2-3-4***\n",
      "1-2-3-4***\n",
      "1-2-3-4***\n",
      "1-2-3-4***\n",
      "1-2-3-4***\n",
      "1-2-3-4***\n",
      "1-2-3-4***\n",
      "1-2-3-4***\n",
      "1-2-3-4***\n",
      "1-2-3-4***\n",
      "1-2-3-4***\n",
      "1-2-3-4***\n",
      "1-2-3-4***\n",
      "1-2-3-4***\n",
      "1-2-3-4***\n",
      "1-2-3-4***\n",
      "1-2-3-4***\n",
      "1-2-3-4***\n",
      "1-2-3-4***\n",
      "1-2-3-4***\n",
      "1-2-3-4***\n",
      "1-2-3-4***\n",
      "1-2-3-4***\n",
      "1-2-3-4***\n",
      "1-2-3-4***\n",
      "1-2-3-4***\n",
      "1-2-3-4***\n",
      "1-2-3-4***\n",
      "1-2-3-4***\n",
      "1-2-3-4***\n",
      "1-2-3-4***\n",
      "1-2-3-4***\n",
      "1-2-3-4***\n",
      "1-2-3-4***\n",
      "1-2-3-4***\n",
      "1-2-3-4***\n",
      "1-2-3-4***\n",
      "1-2-3-4***\n",
      "1-2-3-4***\n",
      "1-2-3-4***\n",
      "1-2-3-4***\n",
      "1-2-3-4***\n",
      "1-2-3-4***\n",
      "1-2-3-4***\n",
      "1-2-3-4***\n",
      "1-2-3-4***\n",
      "1-2-3-4***\n",
      "1-2-3-4***\n",
      "1-2-3-4***\n",
      "1-2-3-4***\n",
      "1-2-3-4***\n",
      "1-2-3-4***\n",
      "1-2-3-4***\n",
      "1-2-3-4***\n",
      "1-2-3-4***\n",
      "1-2-3-4***\n",
      "1-2-3-4***\n",
      "1-2-3-4***\n",
      "1-2-3-4***\n",
      "1-2-3-4***\n",
      "1-2-3-4***\n",
      "1-2-3-4***\n",
      "1-2-3-4***\n",
      "1-2-3-4***\n",
      "1-2-3-4***\n",
      "1-2-3-4***\n",
      "1-2-3-4***\n",
      "1-2-3-4***\n",
      "1-2-3-4***\n",
      "1-2-3-4***\n",
      "1-2-3-4***\n",
      "1-2-3-4***\n",
      "1-2-3-4***\n",
      "1-2-3-4***\n",
      "1-2-3-4***\n",
      "1-2-3-4***\n",
      "1-2-3-4***\n",
      "1-2-3-4***\n",
      "1-2-3-4***\n",
      "1-2-3-4***\n",
      "1-2-3-4***\n",
      "1-2-3-4***\n",
      "1-2-3-4***\n",
      "1-2-3-4***\n",
      "1-2-3-4***\n",
      "1-2-3-4***\n",
      "1-2-3-4***\n",
      "1-2-3-4***\n",
      "1-2-3-4***\n",
      "1-2-3-4***\n",
      "1-2-3-4***\n",
      "1-2-3-4***\n",
      "1-2-3-4***\n",
      "1-2-3-4***\n",
      "1-2-3-4***\n",
      "1-2-3-4***\n",
      "1-2-3-4***\n",
      "1-2-3-4***\n",
      "1-2-3-4***\n",
      "1-2-3-4***\n",
      "1-2-3-4***\n",
      "1-2-3-4***\n",
      "1-2-3-4***\n",
      "1-2-3-4***\n",
      "1-2-3-4***\n",
      "1-2-3-4***\n",
      "1-2-3-4***\n",
      "1-2-3-4***\n",
      "1-2-3-4***\n",
      "1-2-3-4***\n",
      "1-2-3-4***\n",
      "1-2-3-4***\n",
      "1-2-3-4***\n",
      "1-2-3-4***\n",
      "1-2-3-4***\n",
      "1-2-3-4***\n",
      "1-2-3-4***\n",
      "1-2-3-4***\n",
      "1-2-3-4***\n",
      "1-2-3-4***\n",
      "1-2-3-4***\n",
      "1-2-3-4***\n",
      "1-2-3-4***\n",
      "1-2-3-4***\n",
      "1-2-3-4***\n",
      "1-2-3-4***\n",
      "1-2-3-4***\n",
      "1-2-3-4***\n",
      "1-2-3-4***\n",
      "1-2-3-4***\n",
      "1-2-3-4***\n",
      "1-2-3-4***\n",
      "1-2-3-4***\n",
      "1-2-3-4***\n",
      "1-2-3-4***\n",
      "1-2-3-4***\n",
      "1-2-3-4***\n",
      "1-2-3-4***\n",
      "1-2-3-4***\n",
      "1-2-3-4***\n",
      "1-2-3-4***\n",
      "1-2-3-4***\n",
      "1-2-3-4***\n",
      "1-2-3-4***\n",
      "1-2-3-4***\n",
      "1-2-3-4***\n",
      "1-2-3-4***\n",
      "1-2-3-4***\n",
      "1-2-3-4***\n",
      "1-2-3-4***\n",
      "1-2-3-4***\n",
      "1-2-3-4***\n",
      "1-2-3-4***\n",
      "1-2-3-4***\n",
      "1-2-3-4***\n",
      "1-2-3-4***\n",
      "1-2-3-4***\n",
      "1-2-3-4***\n",
      "1-2-3-4***\n",
      "1-2-3-4***\n",
      "1-2-3-4***\n",
      "1-2-3-4***\n",
      "1-2-3-4***\n",
      "1-2-3-4***\n",
      "1-2-3-4***\n",
      "1-2-3-4***\n",
      "1-2-3-4***\n",
      "1-2-3-4***\n",
      "1-2-3-4***\n",
      "1-2-3-4***\n",
      "1-2-3-4***\n",
      "1-2-3-4***\n",
      "1-2-3-4***\n",
      "1-2-3-4***\n",
      "1-2-3-4***\n",
      "1-2-3-4***\n",
      "1-2-3-4***\n",
      "1-2-3-4***\n",
      "1-2-3-4***\n",
      "1-2-3-4***\n",
      "1-2-3-4***\n",
      "1-2-3-4***\n",
      "1-2-3-4***\n",
      "1-2-3-4***\n",
      "1-2-3-4***\n",
      "1-2-3-4***\n",
      "1-2-3-4***\n",
      "1-2-3-4***\n",
      "1-2-3-4***\n",
      "1-2-3-4***\n",
      "1-2-3-4***\n",
      "1-2-3-4***\n",
      "1-2-3-4***\n",
      "1-2-3-4***\n",
      "1-2-3-4***\n",
      "1-2-3-4***\n",
      "1-2-3-4***\n",
      "1-2-3-4***\n",
      "1-2-3-4***\n",
      "1-2-3-4***\n",
      "1-2-3-4***\n",
      "1-2-3-4***\n",
      "1-2-3-4***\n",
      "1-2-3-4***\n",
      "1-2-3-4***\n",
      "1-2-3-4***\n",
      "1-2-3-4***\n",
      "1-2-3-4***\n",
      "1-2-3-4***\n",
      "1-2-3-4***\n",
      "1-2-3-4***\n",
      "1-2-3-4***\n",
      "1-2-3-4***\n",
      "1-2-3-4***\n",
      "1-2-3-4***\n",
      "1-2-3-4***\n",
      "1-2-3-4***\n",
      "1-2-3-4***\n",
      "1-2-3-4***\n",
      "1-2-3-4***\n",
      "1-2-3-4***\n",
      "1-2-3-4***\n",
      "1-2-3-4***\n",
      "1-2-3-4***\n",
      "1-2-3-4***\n",
      "1-2-3-4***\n",
      "1-2-3-4***\n",
      "1-2-3-4***\n",
      "1-2-3-4***\n",
      "1-2-3-4***\n",
      "1-2-3-4***\n",
      "1-2-3-4***\n",
      "1-2-3-4***\n",
      "1-2-3-4***\n",
      "1-2-3-4***\n",
      "1-2-3-4***\n",
      "1-2-3-4***\n",
      "1-2-3-4***\n",
      "1-2-3-4***\n",
      "1-2-3-4***\n",
      "1-2-3-4***\n",
      "1-2-3-4***\n",
      "1-2-3-4***\n",
      "1-2-3-4***\n",
      "1-2-3-4***\n",
      "1-2-3-4***\n",
      "1-2-3-4***\n",
      "1-2-3-4***\n",
      "1-2-3-4***\n",
      "1-2-3-4***\n",
      "1-2-3-4***\n",
      "1-2-3-4***\n",
      "1-2-3-4***\n",
      "1-2-3-4***\n",
      "1-2-3-4***\n",
      "1-2-3-4***\n",
      "1-2-3-4***\n",
      "1-2-3-4***\n",
      "1-2-3-4***\n",
      "1-2-3-4***\n",
      "1-2-3-4***\n",
      "1-2-3-4***\n",
      "1-2-3-4***\n",
      "1-2-3-4***\n",
      "1-2-3-4***\n",
      "1-2-3-4***\n",
      "1-2-3-4***\n",
      "1-2-3-4***\n",
      "1-2-3-4***\n",
      "1-2-3-4***\n",
      "1-2-3-4***\n",
      "1-2-3-4***\n",
      "1-2-3-4***\n",
      "1-2-3-4***\n",
      "1-2-3-4***\n",
      "1-2-3-4***\n",
      "1-2-3-4***\n",
      "1-2-3-4***\n",
      "1-2-3-4***\n",
      "1-2-3-4***\n",
      "1-2-3-4***\n",
      "1-2-3-4***\n",
      "1-2-3-4***\n",
      "1-2-3-4***\n",
      "1-2-3-4***\n",
      "1-2-3-4***\n",
      "1-2-3-4***\n",
      "1-2-3-4***\n",
      "1-2-3-4***\n",
      "1-2-3-4***\n",
      "1-2-3-4***\n",
      "1-2-3-4***\n",
      "1-2-3-4***\n",
      "1-2-3-4***\n",
      "1-2-3-4***\n",
      "1-2-3-4***\n",
      "1-2-3-4***\n",
      "1-2-3-4***\n",
      "1-2-3-4***\n",
      "1-2-3-4***\n",
      "1-2-3-4***\n",
      "1-2-3-4***\n",
      "1-2-3-4***\n",
      "1-2-3-4***\n",
      "1-2-3-4***\n",
      "1-2-3-4***\n",
      "1-2-3-4***\n",
      "1-2-3-4***\n",
      "1-2-3-4***\n",
      "1-2-3-4***\n",
      "1-2-3-4***\n",
      "1-2-3-4***\n",
      "1-2-3-4***\n",
      "1-2-3-4***\n",
      "1-2-3-4***\n",
      "1-2-3-4***\n",
      "1-2-3-4***\n",
      "1-2-3-4***\n",
      "1-2-3-4***\n",
      "1-2-3-4***\n",
      "1-2-3-4***\n",
      "1-2-3-4***\n",
      "1-2-3-4***\n",
      "1-2-3-4***\n",
      "1-2-3-4***\n",
      "1-2-3-4***\n",
      "1-2-3-4***\n",
      "1-2-3-4***\n",
      "1-2-3-4***\n",
      "1-2-3-4***\n",
      "1-2-3-4***\n",
      "1-2-3-4***\n",
      "1-2-3-4***\n",
      "1-2-3-4***\n",
      "1-2-3-4***\n",
      "1-2-3-4***\n",
      "1-2-3-4***\n",
      "1-2-3-4***\n",
      "1-2-3-4***\n",
      "1-2-3-4***\n",
      "1-2-3-4***\n",
      "1-2-3-4***\n",
      "1-2-3-4***\n",
      "1-2-3-4***\n",
      "1-2-3-4***\n",
      "1-2-3-4***\n",
      "1-2-3-4***\n",
      "1-2-3-4***\n",
      "1-2-3-4***\n",
      "1-2-3-4***\n",
      "1-2-3-4***\n",
      "1-2-3-4***\n",
      "1-2-3-4***\n",
      "1-2-3-4***\n",
      "1-2-3-4***\n",
      "1-2-3-4***\n",
      "1-2-3-4***\n",
      "1-2-3-4***\n",
      "1-2-3-4***\n",
      "1-2-3-4***\n",
      "1-2-3-4***\n",
      "1-2-3-4***\n",
      "1-2-3-4***\n",
      "1-2-3-4***\n",
      "1-2-3-4***\n",
      "1-2-3-4***\n",
      "1-2-3-4***\n",
      "1-2-3-4***\n",
      "1-2-3-4***\n",
      "1-2-3-4***\n",
      "1-2-3-4***\n",
      "1-2-3-4***\n",
      "1-2-3-4***\n",
      "1-2-3-4***\n",
      "1-2-3-4***\n",
      "1-2-3-4***\n",
      "1-2-3-4***\n",
      "1-2-3-4***\n",
      "1-2-3-4***\n",
      "1-2-3-4***\n",
      "1-2-3-4***\n",
      "1-2-3-4***\n",
      "1-2-3-4***\n",
      "1-2-3-4***\n",
      "1-2-3-4***\n",
      "1-2-3-4***\n",
      "1-2-3-4***\n",
      "1-2-3-4***\n",
      "1-2-3-4***\n",
      "1-2-3-4***\n",
      "1-2-3-4***\n",
      "1-2-3-4***\n",
      "1-2-3-4***\n",
      "1-2-3-4***\n",
      "1-2-3-4***\n",
      "1-2-3-4***\n",
      "1-2-3-4***\n",
      "1-2-3-4***\n",
      "1-2-3-4***\n",
      "1-2-3-4***\n",
      "1-2-3-4***\n",
      "1-2-3-4***\n",
      "1-2-3-4***\n",
      "1-2-3-4***\n",
      "1-2-3-4***\n",
      "1-2-3-4***\n",
      "1-2-3-4***\n",
      "1-2-3-4***\n",
      "1-2-3-4***\n",
      "1-2-3-4***\n",
      "1-2-3-4***\n",
      "1-2-3-4***\n",
      "1-2-3-4***\n",
      "1-2-3-4***\n",
      "1-2-3-4***\n",
      "1-2-3-4***\n",
      "1-2-3-4***\n",
      "1-2-3-4***\n",
      "1-2-3-4***\n",
      "1-2-3-4***\n",
      "1-2-3-4***\n",
      "1-2-3-4***\n",
      "1-2-3-4***\n",
      "1-2-3-4***\n",
      "1-2-3-4***\n",
      "1-2-3-4***\n",
      "1-2-3-4***\n",
      "1-2-3-4***\n",
      "1-2-3-4***\n",
      "1-2-3-4***\n",
      "1-2-3-4***\n",
      "1-2-3-4***\n",
      "1-2-3-4***\n",
      "1-2-3-4***\n",
      "1-2-3-4***\n",
      "1-2-3-4***\n",
      "1-2-3-4***\n",
      "1-2-3-4***\n",
      "1-2-3-4***\n",
      "1-2-3-4***\n",
      "1-2-3-4***\n",
      "1-2-3-4***\n",
      "1-2-3-4***\n",
      "1-2-3-4***\n",
      "1-2-3-4***\n",
      "1-2-3-4***\n",
      "1-2-3-4***\n",
      "1-2-3-4***\n",
      "1-2-3-4***\n",
      "1-2-3-4***\n",
      "1-2-3-4***\n",
      "1-2-3-4***\n",
      "1-2-3-4***\n",
      "1-2-3-4***\n",
      "1-2-3-4***\n",
      "1-2-3-4***\n",
      "1-2-3-4***\n",
      "1-2-3-4***\n",
      "1-2-3-4***\n",
      "1-2-3-4***\n",
      "1-2-3-4***\n",
      "1-2-3-4***\n",
      "1-2-3-4***\n",
      "1-2-3-4***\n",
      "1-2-3-4***\n",
      "1-2-3-4***\n",
      "1-2-3-4***\n",
      "1-2-3-4***\n",
      "1-2-3-4***\n",
      "1-2-3-4***\n",
      "1-2-3-4***\n",
      "1-2-3-4***\n",
      "1-2-3-4***\n",
      "1-2-3-4***\n",
      "1-2-3-4***\n",
      "1-2-3-4***\n",
      "1-2-3-4***\n",
      "1-2-3-4***\n",
      "1-2-3-4***\n",
      "1-2-3-4***\n",
      "1-2-3-4***\n",
      "1-2-3-4***\n",
      "1-2-3-4***\n",
      "1-2-3-4***\n",
      "1-2-3-4***\n",
      "1-2-3-4***\n",
      "1-2-3-4***\n",
      "1-2-3-4***\n",
      "1-2-3-4***\n",
      "1-2-3-4***\n",
      "1-2-3-4***\n",
      "1-2-3-4***\n",
      "1-2-3-4***\n",
      "1-2-3-4***\n",
      "1-2-3-4***\n",
      "1-2-3-4***\n",
      "1-2-3-4***\n",
      "1-2-3-4***\n",
      "1-2-3-4***\n",
      "1-2-3-4***\n",
      "1-2-3-4***\n",
      "1-2-3-4***\n",
      "1-2-3-4***\n",
      "1-2-3-4***\n",
      "1-2-3-4***\n",
      "1-2-3-4***\n",
      "1-2-3-4***\n",
      "1-2-3-4***\n",
      "1-2-3-4***\n",
      "1-2-3-4***\n",
      "1-2-3-4***\n",
      "1-2-3-4***\n",
      "1-2-3-4***\n",
      "1-2-3-4***\n",
      "1-2-3-4***\n",
      "1-2-3-4***\n",
      "1-2-3-4***\n",
      "1-2-3-4***\n",
      "1-2-3-4***\n",
      "1-2-3-4***\n",
      "1-2-3-4***\n",
      "1-2-3-4***\n",
      "1-2-3-4***\n",
      "1-2-3-4***\n",
      "1-2-3-4***\n",
      "1-2-3-4***\n",
      "1-2-3-4***\n",
      "1-2-3-4***\n",
      "1-2-3-4***\n",
      "1-2-3-4***\n",
      "1-2-3-4***\n",
      "1-2-3-4***\n",
      "1-2-3-4***\n",
      "1-2-3-4***\n",
      "1-2-3-4***\n",
      "1-2-3-4***\n",
      "1-2-3-4***\n",
      "1-2-3-4***\n",
      "1-2-3-4***\n",
      "1-2-3-4***\n",
      "1-2-3-4***\n",
      "1-2-3-4***\n",
      "1-2-3-4***\n",
      "1-2-3-4***\n",
      "1-2-3-4***\n",
      "1-2-3-4***\n",
      "1-2-3-4***\n",
      "1-2-3-4***\n",
      "1-2-3-4***\n",
      "1-2-3-4***\n",
      "1-2-3-4***\n",
      "1-2-3-4***\n",
      "1-2-3-4***\n",
      "1-2-3-4***\n",
      "1-2-3-4***\n",
      "1-2-3-4***\n",
      "1-2-3-4***\n",
      "1-2-3-4***\n",
      "1-2-3-4***\n",
      "1-2-3-4***\n",
      "1-2-3-4***\n",
      "1-2-3-4***\n",
      "1-2-3-4***\n",
      "1-2-3-4***\n",
      "1-2-3-4***\n",
      "time taken is 0.008828999999423104\n"
     ]
    }
   ],
   "source": [
    "time_it(print, 1,2,3,4,rep = 1000, end='***\\n',sep='-')"
   ]
  },
  {
   "cell_type": "code",
   "execution_count": null,
   "metadata": {},
   "outputs": [],
   "source": [
    "def compute_powers_1(n, *, start=1, end):\n",
    "    #using a for loop\n",
    "    results = []\n",
    "    for i in range(start,end):\n",
    "        results.append(n**i)\n",
    "    return results"
   ]
  },
  {
   "cell_type": "code",
   "execution_count": null,
   "metadata": {},
   "outputs": [],
   "source": [
    "def time_it(fn, *args,  rep=1, **kwargs):\n",
    "    import time\n",
    "    start = time.perf_counter()\n",
    "    for i in range(rep):\n",
    "        fn(*args, **kwargs)\n",
    "    end = time.perf_counter()\n",
    "    return (end-start)/rep"
   ]
  },
  {
   "cell_type": "code",
   "execution_count": null,
   "metadata": {},
   "outputs": [
    {
     "name": "stdout",
     "output_type": "stream",
     "text": [
      "1-2-3#####\n"
     ]
    },
    {
     "data": {
      "text/plain": [
       "2.550000135670416e-05"
      ]
     },
     "execution_count": 143,
     "metadata": {},
     "output_type": "execute_result"
    }
   ],
   "source": [
    "time_it(print, 1,2,3,sep='-', end='#####\\n')"
   ]
  },
  {
   "cell_type": "code",
   "execution_count": null,
   "metadata": {},
   "outputs": [
    {
     "data": {
      "text/plain": [
       "[2, 4, 8, 16]"
      ]
     },
     "execution_count": 11,
     "metadata": {},
     "output_type": "execute_result"
    }
   ],
   "source": [
    "compute_powers_1(2,end=5)"
   ]
  },
  {
   "cell_type": "code",
   "execution_count": null,
   "metadata": {},
   "outputs": [],
   "source": [
    "def compute_powers_2(n, *, start=1, end):\n",
    "    #using lists comprehension\n",
    "    return [n**i for i in range(start,end)]"
   ]
  },
  {
   "cell_type": "code",
   "execution_count": null,
   "metadata": {},
   "outputs": [
    {
     "data": {
      "text/plain": [
       "[2, 4, 8, 16]"
      ]
     },
     "execution_count": 12,
     "metadata": {},
     "output_type": "execute_result"
    }
   ],
   "source": [
    "compute_powers_2(2,end=5)"
   ]
  },
  {
   "cell_type": "code",
   "execution_count": null,
   "metadata": {},
   "outputs": [],
   "source": [
    "class Person:\n",
    "    def __init__(self, name, age=20):\n",
    "        self._name = name\n",
    "        self._age = age\n",
    "\n",
    "    @property\n",
    "    def name(self):\n",
    "        return self._name\n",
    "    \n",
    "    @property\n",
    "    def age(self):\n",
    "       \n",
    "        return self._age\n",
    "    \n",
    "    @age.setter\n",
    "    def age(self, age):\n",
    "         if age < 0:\n",
    "            raise ValueError\n",
    "         \n",
    "        self._age = age\n",
    "    "
   ]
  },
  {
   "cell_type": "code",
   "execution_count": null,
   "metadata": {},
   "outputs": [],
   "source": [
    "p = Person(\"tanay\", 2031)"
   ]
  },
  {
   "cell_type": "code",
   "execution_count": null,
   "metadata": {},
   "outputs": [
    {
     "ename": "AttributeError",
     "evalue": "can't set attribute",
     "output_type": "error",
     "traceback": [
      "\u001b[0;31m---------------------------------------------------------------------------\u001b[0m",
      "\u001b[0;31mAttributeError\u001b[0m                            Traceback (most recent call last)",
      "Cell \u001b[0;32mIn[42], line 3\u001b[0m\n\u001b[1;32m      1\u001b[0m \u001b[39m# p.age = 20\u001b[39;00m\n\u001b[0;32m----> 3\u001b[0m p\u001b[39m.\u001b[39;49mname \u001b[39m=\u001b[39m \u001b[39m\"\u001b[39m\u001b[39m\"\u001b[39m\n",
      "\u001b[0;31mAttributeError\u001b[0m: can't set attribute"
     ]
    }
   ],
   "source": [
    "# p.age = 20\n",
    "\n",
    "p.name = \"\""
   ]
  },
  {
   "cell_type": "code",
   "execution_count": null,
   "metadata": {},
   "outputs": [],
   "source": [
    "# p.tanay = \"tanay\""
   ]
  },
  {
   "cell_type": "code",
   "execution_count": null,
   "metadata": {},
   "outputs": [
    {
     "ename": "AttributeError",
     "evalue": "'Person' object has no attribute 'tanay'",
     "output_type": "error",
     "traceback": [
      "\u001b[0;31m---------------------------------------------------------------------------\u001b[0m",
      "\u001b[0;31mAttributeError\u001b[0m                            Traceback (most recent call last)",
      "Cell \u001b[0;32mIn[18], line 1\u001b[0m\n\u001b[0;32m----> 1\u001b[0m p\u001b[39m.\u001b[39;49mt()\n",
      "Cell \u001b[0;32mIn[9], line 6\u001b[0m, in \u001b[0;36mPerson.t\u001b[0;34m(self)\u001b[0m\n\u001b[1;32m      5\u001b[0m \u001b[39mdef\u001b[39;00m \u001b[39mt\u001b[39m(\u001b[39mself\u001b[39m):\n\u001b[0;32m----> 6\u001b[0m     \u001b[39mprint\u001b[39m(\u001b[39mself\u001b[39;49m\u001b[39m.\u001b[39;49mtanay)\n",
      "\u001b[0;31mAttributeError\u001b[0m: 'Person' object has no attribute 'tanay'"
     ]
    }
   ],
   "source": [
    "p.t()"
   ]
  },
  {
   "cell_type": "code",
   "execution_count": null,
   "metadata": {},
   "outputs": [],
   "source": [
    "class webseries:\n",
    "    def __init__(self, name, xyz, duration, views, *genre):\n",
    "        self._name = name\n",
    "        self._genre = genre\n",
    "        self._budget = xyz\n",
    "        self._duration = duration\n",
    "        self._views = views\n",
    "    \n",
    "    @property\n",
    "    def budget(self):\n",
    "        return self._budget\n",
    "    \n",
    "    @property\n",
    "    def genre(self):\n",
    "        return self._genre\n",
    "    \n",
    "    @property\n",
    "    def name(self):\n",
    "        return self._name\n",
    "    \n",
    "    @property\n",
    "    def duration(self):\n",
    "        return self._duration\n",
    "    \n",
    "    @property\n",
    "    def views(self):\n",
    "        return self._views\n",
    "    \n",
    "    @name.setter\n",
    "    def name(self, new_name):\n",
    "        self._name = new_name\n",
    "\n",
    "    @views.setter\n",
    "    def views(self, val):\n",
    "        self._views = val\n",
    "\n",
    "    def is_scary(self):\n",
    "        for i in self.genre:\n",
    "            if i == 'horror':\n",
    "                return True\n",
    "        return False\n",
    "    \n",
    "    def is_long(self):\n",
    "        return True if self.duration > 8 else False\n",
    "    \n",
    "    def is_hit(self):\n",
    "        return True if self.views > 50000000 else False\n",
    "    \n",
    "    def is_adult(self):\n",
    "        for i in self.genre:\n",
    "            if i == 'adult':\n",
    "                return True\n",
    "        return False\n",
    "    \n",
    "    def is_watchable(self):\n",
    "        return self.is_hit() and not self.is_adult() and self.something()\n",
    "     \n",
    "    def something(self):\n",
    "        import time\n",
    "        start = time.perf_counter()\n",
    "        for i in range(100000000):\n",
    "            a=i\n",
    "        end  = time.perf_counter()\n",
    "        print(end-start)\n",
    "        return True\n",
    "    \n",
    "    def prime_genre(self):\n",
    "        return self.genre and self.genre[0]\n",
    "    \n",
    "    def earnings(self):\n",
    "        return \n"
   ]
  },
  {
   "cell_type": "code",
   "execution_count": null,
   "metadata": {},
   "outputs": [],
   "source": [
    "a  = webseries('Stranger Things', 500000000, 10, 789658\n",
    "               #, 'thriller', 'horror'\n",
    "               )"
   ]
  },
  {
   "cell_type": "code",
   "execution_count": null,
   "metadata": {},
   "outputs": [
    {
     "data": {
      "text/plain": [
       "True"
      ]
     },
     "execution_count": 104,
     "metadata": {},
     "output_type": "execute_result"
    }
   ],
   "source": [
    "a.is_scary()\n"
   ]
  },
  {
   "cell_type": "code",
   "execution_count": null,
   "metadata": {},
   "outputs": [
    {
     "data": {
      "text/plain": [
       "False"
      ]
     },
     "execution_count": 105,
     "metadata": {},
     "output_type": "execute_result"
    }
   ],
   "source": [
    "a.is_adult()"
   ]
  },
  {
   "cell_type": "code",
   "execution_count": null,
   "metadata": {},
   "outputs": [
    {
     "data": {
      "text/plain": [
       "True"
      ]
     },
     "execution_count": 106,
     "metadata": {},
     "output_type": "execute_result"
    }
   ],
   "source": [
    "a.is_long()"
   ]
  },
  {
   "cell_type": "code",
   "execution_count": null,
   "metadata": {},
   "outputs": [
    {
     "data": {
      "text/plain": [
       "'thriller'"
      ]
     },
     "execution_count": 126,
     "metadata": {},
     "output_type": "execute_result"
    }
   ],
   "source": [
    "a.genre[0]\n"
   ]
  },
  {
   "cell_type": "code",
   "execution_count": null,
   "metadata": {},
   "outputs": [
    {
     "data": {
      "text/plain": [
       "True"
      ]
     },
     "execution_count": 107,
     "metadata": {},
     "output_type": "execute_result"
    }
   ],
   "source": [
    "a.is_hit()"
   ]
  },
  {
   "cell_type": "code",
   "execution_count": null,
   "metadata": {},
   "outputs": [
    {
     "data": {
      "text/plain": [
       "80000000"
      ]
     },
     "execution_count": 108,
     "metadata": {},
     "output_type": "execute_result"
    }
   ],
   "source": [
    "a.views"
   ]
  },
  {
   "cell_type": "code",
   "execution_count": null,
   "metadata": {},
   "outputs": [],
   "source": [
    "a.views = 900000000"
   ]
  },
  {
   "cell_type": "code",
   "execution_count": null,
   "metadata": {},
   "outputs": [
    {
     "ename": "AttributeError",
     "evalue": "can't set attribute",
     "output_type": "error",
     "traceback": [
      "\u001b[0;31m---------------------------------------------------------------------------\u001b[0m",
      "\u001b[0;31mAttributeError\u001b[0m                            Traceback (most recent call last)",
      "Cell \u001b[0;32mIn[110], line 1\u001b[0m\n\u001b[0;32m----> 1\u001b[0m a\u001b[39m.\u001b[39;49mbudget \u001b[39m=\u001b[39m \u001b[39m9890\u001b[39m\n",
      "\u001b[0;31mAttributeError\u001b[0m: can't set attribute"
     ]
    }
   ],
   "source": [
    "a.budget = 9890"
   ]
  },
  {
   "cell_type": "code",
   "execution_count": null,
   "metadata": {},
   "outputs": [
    {
     "data": {
      "text/plain": [
       "False"
      ]
     },
     "execution_count": 119,
     "metadata": {},
     "output_type": "execute_result"
    }
   ],
   "source": [
    "a.is_watchable()"
   ]
  },
  {
   "cell_type": "code",
   "execution_count": null,
   "metadata": {},
   "outputs": [
    {
     "data": {
      "text/plain": [
       "()"
      ]
     },
     "execution_count": 132,
     "metadata": {},
     "output_type": "execute_result"
    }
   ],
   "source": [
    "a.prime_genre()"
   ]
  },
  {
   "cell_type": "markdown",
   "metadata": {},
   "source": [
    "##Beware Default params\n",
    "\n",
    "When we import a library, the whole module code is executed that time<br>\n",
    "so in this case a function defined in the module also gets executed and stored as an object<br>\n",
    "if, fn has a default value parameter assigned to some dynamic object, then it is already evaluated and stored at into the memory at that very moment, so later after some time if it is called, the fn object is executed and it considers that instance of default object that was defined at fn definition.\n",
    "\n",
    "\n",
    ">Be  careful while passing mutable or callable objects to functions as parameters"
   ]
  },
  {
   "cell_type": "code",
   "execution_count": null,
   "metadata": {},
   "outputs": [],
   "source": [
    "def add_movie(name, duration, genre, rating, Watchlist):\n",
    "    Watchlist.append('{0} : {1}, {2}, [{3}]'. format(name, duration, genre, rating))\n",
    "    return Watchlist"
   ]
  },
  {
   "cell_type": "code",
   "execution_count": null,
   "metadata": {},
   "outputs": [
    {
     "data": {
      "text/plain": [
       "['Ironman : 1.5, action, [4.5/5]']"
      ]
     },
     "execution_count": 173,
     "metadata": {},
     "output_type": "execute_result"
    }
   ],
   "source": [
    "watchlist_1= []\n",
    "watchlist_1 = add_movie('Ironman', 1.5, 'action', '4.5/5', watchlist_1)\n",
    "watchlist_1\n"
   ]
  },
  {
   "cell_type": "code",
   "execution_count": null,
   "metadata": {},
   "outputs": [
    {
     "data": {
      "text/plain": [
       "['Ironman : 1.5, action, [4.5/5]', 'Speed : 2, drama, [3.7/5]']"
      ]
     },
     "execution_count": 174,
     "metadata": {},
     "output_type": "execute_result"
    }
   ],
   "source": [
    "add_movie('Speed',2,'drama','3.7/5', watchlist_1)"
   ]
  },
  {
   "cell_type": "code",
   "execution_count": null,
   "metadata": {},
   "outputs": [],
   "source": [
    "def add_movie(name, duration, genre, rating, Watchlist=[]):\n",
    "    Watchlist.append('{0} : {1}, {2}, [{3}]'. format(name, duration, genre, rating))\n",
    "    return Watchlist"
   ]
  },
  {
   "cell_type": "code",
   "execution_count": null,
   "metadata": {},
   "outputs": [],
   "source": [
    "watchlist2 = add_movie('Sholay', 2.5, 'Drama-comedy', '4/5')"
   ]
  },
  {
   "cell_type": "code",
   "execution_count": null,
   "metadata": {},
   "outputs": [
    {
     "data": {
      "text/plain": [
       "['Sholay : 2.5, Drama-comedy, [4/5]',\n",
       " 'Sholay : 2.5, Drama-comedy, [4/5]',\n",
       " 'krish : 2, Superhero, [4.2/5]',\n",
       " 'Sholay : 2.5, Drama-comedy, [4/5]',\n",
       " 'krish : 2, Superhero, [4.2/5]']"
      ]
     },
     "execution_count": 181,
     "metadata": {},
     "output_type": "execute_result"
    }
   ],
   "source": [
    "add_movie('krish', 2, 'Superhero', '4.2/5', watchlist2)"
   ]
  },
  {
   "cell_type": "code",
   "execution_count": null,
   "metadata": {},
   "outputs": [
    {
     "data": {
      "text/plain": [
       "['Sholay : 2.5, Drama-comedy, [4/5]',\n",
       " 'Sholay : 2.5, Drama-comedy, [4/5]',\n",
       " 'krish : 2, Superhero, [4.2/5]',\n",
       " 'Sholay : 2.5, Drama-comedy, [4/5]',\n",
       " 'krish : 2, Superhero, [4.2/5]',\n",
       " 'Satya : 1.75, timepass, [3/5]',\n",
       " 'Satya : 1.75, timepass, [3/5]']"
      ]
     },
     "execution_count": 184,
     "metadata": {},
     "output_type": "execute_result"
    }
   ],
   "source": [
    "watchlist3 = add_movie('Satya', 1.75, 'timepass', '3/5')\n",
    "watchlist3"
   ]
  },
  {
   "cell_type": "code",
   "execution_count": null,
   "metadata": {},
   "outputs": [],
   "source": [
    "def add_movie(name, duration, genre, rating, Watchlist):\n",
    "    if Watchlist is None:\n",
    "        Watchlist=[]\n",
    "    Watchlist.append('{0} : {1}, {2}, [{3}]'. format(name, duration, genre, rating))\n",
    "    return Watchlist"
   ]
  },
  {
   "cell_type": "code",
   "execution_count": null,
   "metadata": {},
   "outputs": [],
   "source": [
    "del watchlist3, watchlist2, watchlist_1"
   ]
  },
  {
   "cell_type": "code",
   "execution_count": null,
   "metadata": {},
   "outputs": [
    {
     "data": {
      "text/plain": [
       "['Ironman : 1.5, action, [4.5/5]', 'Piku : 3, drama, [5/5]']"
      ]
     },
     "execution_count": 190,
     "metadata": {},
     "output_type": "execute_result"
    }
   ],
   "source": [
    "watchlist_1 = add_movie('Ironman', 1.5, 'action', '4.5/5', None)\n",
    "\n",
    "add_movie('Piku', 3, 'drama', '5/5', watchlist_1)\n"
   ]
  },
  {
   "cell_type": "code",
   "execution_count": null,
   "metadata": {},
   "outputs": [
    {
     "data": {
      "text/plain": [
       "['Ironman : 1.5, action, [4.5/5]', 'Piku : 3, drama, [5/5]']"
      ]
     },
     "execution_count": 194,
     "metadata": {},
     "output_type": "execute_result"
    }
   ],
   "source": [
    "watchlist2 = add_movie('Sholay', 2.5, 'Drama-comedy', '4/5', None)\n",
    "watchlist2\n",
    "watchlist_1"
   ]
  },
  {
   "cell_type": "markdown",
   "metadata": {},
   "source": [
    "While using mutable default types as parameter, beware that the object gets created when function definition gets executed and the same object will be used when default parameter is called.\n",
    "\n",
    "so every instance generation that mutates object will be resulting to the mutated default parameter. "
   ]
  },
  {
   "cell_type": "markdown",
   "metadata": {},
   "source": [
    "But in some cases it can be useful property."
   ]
  },
  {
   "cell_type": "code",
   "execution_count": null,
   "metadata": {},
   "outputs": [],
   "source": [
    "def Id_generator(name, manual=[]):\n",
    "    if name not in manual:\n",
    "        manual.append(name)\n",
    "        return 'New entry, your id is : {0}'.format(len(manual))\n",
    "    else:\n",
    "        return 'Name already exist in the manual'\n"
   ]
  },
  {
   "cell_type": "code",
   "execution_count": null,
   "metadata": {},
   "outputs": [
    {
     "data": {
      "text/plain": [
       "'New entry, your id is : 1'"
      ]
     },
     "execution_count": 215,
     "metadata": {},
     "output_type": "execute_result"
    }
   ],
   "source": [
    "Id_generator('Tanay')"
   ]
  },
  {
   "cell_type": "code",
   "execution_count": null,
   "metadata": {},
   "outputs": [
    {
     "data": {
      "text/plain": [
       "'New entry, your id is : 2'"
      ]
     },
     "execution_count": 216,
     "metadata": {},
     "output_type": "execute_result"
    }
   ],
   "source": [
    "Id_generator('Taksh')"
   ]
  },
  {
   "cell_type": "code",
   "execution_count": null,
   "metadata": {},
   "outputs": [
    {
     "data": {
      "text/plain": [
       "'New entry, your id is : 3'"
      ]
     },
     "execution_count": 217,
     "metadata": {},
     "output_type": "execute_result"
    }
   ],
   "source": [
    "Id_generator('Sarvesh')"
   ]
  },
  {
   "cell_type": "code",
   "execution_count": null,
   "metadata": {},
   "outputs": [
    {
     "data": {
      "text/plain": [
       "'New entry, your id is : 4'"
      ]
     },
     "execution_count": 218,
     "metadata": {},
     "output_type": "execute_result"
    }
   ],
   "source": [
    "Id_generator('Ayush')"
   ]
  },
  {
   "cell_type": "code",
   "execution_count": null,
   "metadata": {},
   "outputs": [
    {
     "data": {
      "text/plain": [
       "'Name already exist in the manual'"
      ]
     },
     "execution_count": 219,
     "metadata": {},
     "output_type": "execute_result"
    }
   ],
   "source": [
    "Id_generator('Tanay')"
   ]
  },
  {
   "cell_type": "code",
   "execution_count": null,
   "metadata": {},
   "outputs": [],
   "source": [
    "def fun_couter(cnt=[]):\n",
    "    i = len(cnt)\n",
    "    cnt.append(i)\n",
    "    print(i)"
   ]
  },
  {
   "cell_type": "code",
   "execution_count": null,
   "metadata": {},
   "outputs": [
    {
     "name": "stdout",
     "output_type": "stream",
     "text": [
      "13\n"
     ]
    }
   ],
   "source": [
    "fun_couter()"
   ]
  },
  {
   "cell_type": "markdown",
   "metadata": {},
   "source": [
    "<hr>\n",
    "\n",
    "# First-Class Functions\n",
    "\n",
    "<hr>"
   ]
  },
  {
   "cell_type": "markdown",
   "metadata": {},
   "source": [
    "Any Object that can be<br>\n",
    "- Passed to a function\n",
    "- returned by the function\n",
    "- assigned to a variable\n",
    "- stored in a list/tuple<br>\n",
    "....is known as a <b>first-class</b> object<br><br> Now Functions we've seen so far happens to fulfil all these conditions, and hence they are called first class functions.\n",
    "\n",
    "#### Higher order functions:\n",
    "<br> This are those functions that takes a function as a parameter or returns a fucntion."
   ]
  },
  {
   "cell_type": "markdown",
   "metadata": {},
   "source": [
    "## Docstrings and annotations"
   ]
  },
  {
   "cell_type": "markdown",
   "metadata": {},
   "source": [
    "### Doscstrings"
   ]
  },
  {
   "cell_type": "markdown",
   "metadata": {},
   "source": [
    "Docstrings can be used as a comment but it will get compilled, so it is not exactly like a comment<br>\n",
    "Multiline docstrings can be achieved\n",
    "\n",
    "- It gets stored into __doc__ property\n",
    "\n",
    "### Annotations\n",
    "\n",
    "- Function annotations give us an additional way to document our functions<br>\n",
    "\n",
    "`def my_func(a: <expression>, b: <expression>) -> <expression>:`<br>\n",
    "`      pass`<br>\n",
    "<br>\n",
    "<i>e.g.</i><br>\n",
    "\n",
    "`def my_func(a: 'a string', b: 'a string') -> 'a string':`<br>\n",
    "`      return a*b`\n",
    "<br>\n",
    "<br>\n",
    "<u><b>Note:</u><br></b>\n",
    " \n",
    "- Annotations doesn't get stored into the `__doc__`, but in `__annotations__` property\n",
    "- `__doc__` is a `string`, but` __annotations__` gets stored into `dictionary`\n",
    "- Expressions in Annotations get evaluated only once. when the function definition is executed\n",
    "- Sphinx goes through entire code and looks for strings and documentations and creates a document for users"
   ]
  },
  {
   "cell_type": "code",
   "execution_count": null,
   "metadata": {},
   "outputs": [],
   "source": [
    "def my_func(a,b):\n",
    "    'This is my func function'\n",
    "    return a + b"
   ]
  },
  {
   "cell_type": "code",
   "execution_count": null,
   "metadata": {},
   "outputs": [],
   "source": [
    "def my_func(a : int, b: int = 91) -> 'it will return string':\n",
    "    return a*b"
   ]
  },
  {
   "cell_type": "code",
   "execution_count": null,
   "metadata": {},
   "outputs": [
    {
     "data": {
      "text/plain": [
       "{'a': int, 'b': int, 'return': 'it will return string'}"
      ]
     },
     "execution_count": 22,
     "metadata": {},
     "output_type": "execute_result"
    }
   ],
   "source": [
    "my_func.__annotations__"
   ]
  },
  {
   "cell_type": "code",
   "execution_count": null,
   "metadata": {},
   "outputs": [
    {
     "data": {
      "text/plain": [
       "182"
      ]
     },
     "execution_count": 23,
     "metadata": {},
     "output_type": "execute_result"
    }
   ],
   "source": [
    "my_func(2)"
   ]
  },
  {
   "cell_type": "code",
   "execution_count": null,
   "metadata": {},
   "outputs": [
    {
     "name": "stdout",
     "output_type": "stream",
     "text": [
      "Help on function my_func in module __main__:\n",
      "\n",
      "my_func(a, b)\n",
      "    This is my func function\n",
      "\n"
     ]
    }
   ],
   "source": [
    "help(my_func)"
   ]
  },
  {
   "cell_type": "markdown",
   "metadata": {},
   "source": [
    "## Lambda expressions\n",
    "\n",
    "`lambda (paramteres list) : (expression) `<br>\n",
    "\n",
    "- this functions are also called anonymous function coz they don't have a name\n",
    "- this can be assigned to a variable or passed as a parameter to an argument\n",
    "\n",
    "### liomitations:\n",
    "\n",
    "- cannot use assignment operators in a lambda expression\n",
    "- cannot use annotations\n",
    "- we can split the lambda expression into multiple lines but it will stil retain the property as a single expression<br>\n",
    "<t> using multiple lines for lambda expression is not recommended. "
   ]
  },
  {
   "cell_type": "code",
   "execution_count": null,
   "metadata": {},
   "outputs": [],
   "source": [
    "def say_hi(string):\n",
    "    return 'hello, {0}'.format(string)"
   ]
  },
  {
   "cell_type": "code",
   "execution_count": null,
   "metadata": {},
   "outputs": [
    {
     "data": {
      "text/plain": [
       "'hello, Tanay'"
      ]
     },
     "execution_count": 28,
     "metadata": {},
     "output_type": "execute_result"
    }
   ],
   "source": [
    "say_hi('Tanay')"
   ]
  },
  {
   "cell_type": "code",
   "execution_count": null,
   "metadata": {},
   "outputs": [],
   "source": [
    "say_hi2 = lambda name: 'hello, {0}, its lamda this side'.format(name)"
   ]
  },
  {
   "cell_type": "code",
   "execution_count": null,
   "metadata": {},
   "outputs": [
    {
     "data": {
      "text/plain": [
       "'hello, Tanay, its lamda this side'"
      ]
     },
     "execution_count": 32,
     "metadata": {},
     "output_type": "execute_result"
    }
   ],
   "source": [
    "say_hi2('Tanay')"
   ]
  },
  {
   "cell_type": "code",
   "execution_count": null,
   "metadata": {},
   "outputs": [
    {
     "data": {
      "text/plain": [
       "<function __main__.<lambda>(name)>"
      ]
     },
     "execution_count": 33,
     "metadata": {},
     "output_type": "execute_result"
    }
   ],
   "source": [
    "say_hi2"
   ]
  },
  {
   "cell_type": "code",
   "execution_count": null,
   "metadata": {},
   "outputs": [],
   "source": [
    "def apply_func(fn, *args, **kwargs):\n",
    "    return fn(*args, **kwargs)"
   ]
  },
  {
   "cell_type": "code",
   "execution_count": null,
   "metadata": {},
   "outputs": [
    {
     "name": "stdout",
     "output_type": "stream",
     "text": [
      "hi-I-am-tanay\n"
     ]
    }
   ],
   "source": [
    "apply_func(print, 'hi', 'I','am', 'tanay', sep='-')"
   ]
  },
  {
   "cell_type": "code",
   "execution_count": null,
   "metadata": {},
   "outputs": [
    {
     "data": {
      "text/plain": [
       "126"
      ]
     },
     "execution_count": 44,
     "metadata": {},
     "output_type": "execute_result"
    }
   ],
   "source": [
    "apply_func( lambda *args: sum(args), 3, 7, 8,9,34,65)"
   ]
  },
  {
   "cell_type": "markdown",
   "metadata": {},
   "source": [
    "## Lambda and sorting"
   ]
  },
  {
   "cell_type": "code",
   "execution_count": null,
   "metadata": {},
   "outputs": [
    {
     "data": {
      "text/plain": [
       "[1, 2, 3, 4, 5]"
      ]
     },
     "execution_count": 1,
     "metadata": {},
     "output_type": "execute_result"
    }
   ],
   "source": [
    "l = [5,3,4,1,2]\n",
    "sorted(l)"
   ]
  },
  {
   "cell_type": "code",
   "execution_count": null,
   "metadata": {},
   "outputs": [
    {
     "data": {
      "text/plain": [
       "['D', 'Y', 'a', 'e', 'f']"
      ]
     },
     "execution_count": 3,
     "metadata": {},
     "output_type": "execute_result"
    }
   ],
   "source": [
    "l = ['a', 'D', 'Y', 'e', 'f']\n",
    "sorted(l)"
   ]
  },
  {
   "cell_type": "code",
   "execution_count": null,
   "metadata": {},
   "outputs": [
    {
     "data": {
      "text/plain": [
       "['a', 'D', 'e', 'f', 'Y']"
      ]
     },
     "execution_count": 5,
     "metadata": {},
     "output_type": "execute_result"
    }
   ],
   "source": [
    "l = ['a', 'D', 'Y', 'e', 'f']\n",
    "sorted(l, key = lambda s:s.upper())"
   ]
  },
  {
   "cell_type": "code",
   "execution_count": null,
   "metadata": {},
   "outputs": [
    {
     "data": {
      "text/plain": [
       "['abc', 'fjf', 'jn']"
      ]
     },
     "execution_count": 9,
     "metadata": {},
     "output_type": "execute_result"
    }
   ],
   "source": [
    "s = {'abc':200, 'jn':5378, 'fjf':186}\n",
    "sorted(s)"
   ]
  },
  {
   "cell_type": "code",
   "execution_count": null,
   "metadata": {},
   "outputs": [
    {
     "data": {
      "text/plain": [
       "['fjf', 'abc', 'jnerfb']"
      ]
     },
     "execution_count": 8,
     "metadata": {},
     "output_type": "execute_result"
    }
   ],
   "source": [
    "sorted(s, key=lambda e: s[e])"
   ]
  },
  {
   "cell_type": "code",
   "execution_count": null,
   "metadata": {},
   "outputs": [],
   "source": [
    "import random\n"
   ]
  },
  {
   "cell_type": "code",
   "execution_count": null,
   "metadata": {},
   "outputs": [
    {
     "data": {
      "text/plain": [
       "0.0384878640923747"
      ]
     },
     "execution_count": 15,
     "metadata": {},
     "output_type": "execute_result"
    }
   ],
   "source": [
    "random.random()"
   ]
  },
  {
   "cell_type": "code",
   "execution_count": null,
   "metadata": {},
   "outputs": [
    {
     "data": {
      "text/plain": [
       "[1, 2, 6, 7, 5, 4, 8, 3]"
      ]
     },
     "execution_count": 51,
     "metadata": {},
     "output_type": "execute_result"
    }
   ],
   "source": [
    "l = [1,2,3,4,5,6,7,8]\n",
    "sorted(l, key = lambda e: random.random())"
   ]
  },
  {
   "cell_type": "markdown",
   "metadata": {},
   "source": [
    "## Function intersospection\n",
    "\n",
    "- `dir()` is used to get attributes of all the functions.\n",
    "- some of the known famous attributes:\n",
    "<t> \n",
    "\n",
    "`__name__` contains the name of the function<br><t>\n",
    "`__defaults__` -> tuple containing default positional parameters<br><t>\n",
    "`__kwdefaults__` -> tuple containing keyword-only parameters\n",
    "`__code__` -> This itself contains various attributes.\n",
    "- `co_varnames` -> returns paramters and variable names associated with code\n",
    "- `co_argcount` -> returns number of parameters(doesn't include *args and **kwargs)!"
   ]
  },
  {
   "cell_type": "markdown",
   "metadata": {},
   "source": [
    "There is a difference bnetween a function and a method:<br>\n",
    "when a callable object is bound to the instance of the class, it is called an method<br>\n",
    "when a callable object is not bound to any object, it is a function<br>\n",
    "\n",
    "`inspect` module<br>\n",
    "\n",
    "- `isfunction(obj)` - detects function\n",
    "- `ismethod(obj)` - detects methods\n",
    "- `isroutine(obj)` - any callable object\n",
    "- `getsource(obj)` - string containing the entire def statement\n",
    "- `getmodule(obj)` - where the function was created \n",
    "- `inspect.getcomments()` - gets the comments that just preceding the function definition.\n",
    "\n",
    "- `inspect.signature()` - instance of the signature class - contains attributes:\n",
    "> keys -> parameter name\n",
    "> values -> object with attributes such as name, default, annotation, kind<br>\n",
    ">kinds: POSITIONAL_OR_KEYWORD<BR>\n",
    ">VAR_POSITIONAL<BR>\n",
    ">KEYWORD_ONLY<BR>\n",
    ">POSITIONAL_ONLY<BR>\n"
   ]
  },
  {
   "cell_type": "code",
   "execution_count": null,
   "metadata": {},
   "outputs": [
    {
     "data": {
      "text/plain": [
       "['__call__',\n",
       " '__class__',\n",
       " '__delattr__',\n",
       " '__dir__',\n",
       " '__doc__',\n",
       " '__eq__',\n",
       " '__format__',\n",
       " '__ge__',\n",
       " '__getattribute__',\n",
       " '__gt__',\n",
       " '__hash__',\n",
       " '__init__',\n",
       " '__init_subclass__',\n",
       " '__le__',\n",
       " '__lt__',\n",
       " '__module__',\n",
       " '__name__',\n",
       " '__ne__',\n",
       " '__new__',\n",
       " '__qualname__',\n",
       " '__reduce__',\n",
       " '__reduce_ex__',\n",
       " '__repr__',\n",
       " '__self__',\n",
       " '__setattr__',\n",
       " '__sizeof__',\n",
       " '__str__',\n",
       " '__subclasshook__',\n",
       " '__text_signature__']"
      ]
     },
     "execution_count": 56,
     "metadata": {},
     "output_type": "execute_result"
    }
   ],
   "source": [
    "dir(print)"
   ]
  },
  {
   "cell_type": "code",
   "execution_count": null,
   "metadata": {},
   "outputs": [],
   "source": [
    "#hi\n",
    "\n",
    "#hellooooo\n",
    "def my_func(a):\n",
    "    print(a)\n"
   ]
  },
  {
   "cell_type": "code",
   "execution_count": null,
   "metadata": {},
   "outputs": [
    {
     "data": {
      "text/plain": [
       "'#hellooooo\\n'"
      ]
     },
     "execution_count": 58,
     "metadata": {},
     "output_type": "execute_result"
    }
   ],
   "source": [
    "import inspect\n",
    "inspect.getcomments(my_func)"
   ]
  },
  {
   "cell_type": "code",
   "execution_count": null,
   "metadata": {},
   "outputs": [],
   "source": [
    "def my_func(a : \"mandatory\",\n",
    "            b: \"optional popsitional\" =1,\n",
    "            c=2,\n",
    "            *args: \"extra positional\" ,\n",
    "            kw1,\n",
    "            kw2=100,\n",
    "            kw3=200,\n",
    "            **kwargs: \"provide extra keyword only here\") -> \"does nothing\":\n",
    "    \"\"\"This function does nothing\n",
    "    but does have various parameters and annotations\"\"\"\n",
    "\n",
    "    i=10\n",
    "    j=20"
   ]
  },
  {
   "cell_type": "code",
   "execution_count": null,
   "metadata": {},
   "outputs": [
    {
     "data": {
      "text/plain": [
       "'This function does nothing\\n    but does have various parameters and annotations'"
      ]
     },
     "execution_count": 248,
     "metadata": {},
     "output_type": "execute_result"
    }
   ],
   "source": [
    "my_func.__doc__"
   ]
  },
  {
   "cell_type": "code",
   "execution_count": null,
   "metadata": {},
   "outputs": [
    {
     "data": {
      "text/plain": [
       "{'a': 'mandatory',\n",
       " 'b': 'optional popsitional',\n",
       " 'args': 'extra positional',\n",
       " 'kwargs': 'provide extra keyword only here',\n",
       " 'return': 'does nothing'}"
      ]
     },
     "execution_count": 249,
     "metadata": {},
     "output_type": "execute_result"
    }
   ],
   "source": [
    "my_func.__annotations__"
   ]
  },
  {
   "cell_type": "code",
   "execution_count": null,
   "metadata": {},
   "outputs": [],
   "source": [
    "my_func.short_desc = \"xjshvfuwvf\"\n"
   ]
  },
  {
   "cell_type": "code",
   "execution_count": null,
   "metadata": {},
   "outputs": [
    {
     "data": {
      "text/plain": [
       "(1, 2)"
      ]
     },
     "execution_count": 251,
     "metadata": {},
     "output_type": "execute_result"
    }
   ],
   "source": [
    "my_func.__defaults__"
   ]
  },
  {
   "cell_type": "code",
   "execution_count": null,
   "metadata": {},
   "outputs": [
    {
     "data": {
      "text/plain": [
       "{'kw2': 100, 'kw3': 200}"
      ]
     },
     "execution_count": 252,
     "metadata": {},
     "output_type": "execute_result"
    }
   ],
   "source": [
    "my_func.__kwdefaults__"
   ]
  },
  {
   "cell_type": "code",
   "execution_count": null,
   "metadata": {},
   "outputs": [
    {
     "data": {
      "text/plain": [
       "<code object my_func at 0x108512710, file \"/var/folders/87/1_hvpl4n0l32shhfrddhlyv00000gr/T/ipykernel_1201/1500180364.py\", line 1>"
      ]
     },
     "execution_count": 253,
     "metadata": {},
     "output_type": "execute_result"
    }
   ],
   "source": [
    "my_func.__code__"
   ]
  },
  {
   "cell_type": "code",
   "execution_count": null,
   "metadata": {},
   "outputs": [
    {
     "data": {
      "text/plain": [
       "3"
      ]
     },
     "execution_count": 254,
     "metadata": {},
     "output_type": "execute_result"
    }
   ],
   "source": [
    "my_func.__code__.co_argcount"
   ]
  },
  {
   "cell_type": "code",
   "execution_count": null,
   "metadata": {},
   "outputs": [
    {
     "data": {
      "text/plain": [
       "('a', 'b', 'c', 'kw1', 'kw2', 'kw3', 'args', 'kwargs', 'i', 'j')"
      ]
     },
     "execution_count": 255,
     "metadata": {},
     "output_type": "execute_result"
    }
   ],
   "source": [
    "my_func.__code__.co_varnames"
   ]
  },
  {
   "cell_type": "code",
   "execution_count": null,
   "metadata": {},
   "outputs": [],
   "source": [
    "f = my_func(1,2,kw1=9)"
   ]
  },
  {
   "cell_type": "code",
   "execution_count": null,
   "metadata": {},
   "outputs": [],
   "source": [
    "import inspect"
   ]
  },
  {
   "cell_type": "code",
   "execution_count": 429,
   "metadata": {},
   "outputs": [
    {
     "data": {
      "text/plain": [
       "True"
      ]
     },
     "execution_count": 429,
     "metadata": {},
     "output_type": "execute_result"
    }
   ],
   "source": [
    "inspect.isfunction(my_func)"
   ]
  },
  {
   "cell_type": "code",
   "execution_count": 430,
   "metadata": {},
   "outputs": [
    {
     "data": {
      "text/plain": [
       "False"
      ]
     },
     "execution_count": 430,
     "metadata": {},
     "output_type": "execute_result"
    }
   ],
   "source": [
    "inspect.ismethod(my_func)"
   ]
  },
  {
   "cell_type": "code",
   "execution_count": 431,
   "metadata": {},
   "outputs": [
    {
     "data": {
      "text/plain": [
       "True"
      ]
     },
     "execution_count": 431,
     "metadata": {},
     "output_type": "execute_result"
    }
   ],
   "source": [
    "inspect.isroutine(my_func)"
   ]
  },
  {
   "cell_type": "code",
   "execution_count": 433,
   "metadata": {},
   "outputs": [
    {
     "name": "stdout",
     "output_type": "stream",
     "text": [
      "def my_func(a,b,c):\n",
      "    print(\"{0} {1} {2}\".format(a,b,c))\n",
      "\n"
     ]
    }
   ],
   "source": [
    "print(inspect.getsource(my_func))"
   ]
  },
  {
   "cell_type": "code",
   "execution_count": 434,
   "metadata": {},
   "outputs": [
    {
     "data": {
      "text/plain": [
       "<module 'builtins' (built-in)>"
      ]
     },
     "execution_count": 434,
     "metadata": {},
     "output_type": "execute_result"
    }
   ],
   "source": [
    "inspect.getmodule(print)"
   ]
  },
  {
   "cell_type": "markdown",
   "metadata": {},
   "source": [
    "- Positional only arguments can be assigned by python only, user cannot define them\n"
   ]
  },
  {
   "cell_type": "code",
   "execution_count": 437,
   "metadata": {},
   "outputs": [
    {
     "name": "stdout",
     "output_type": "stream",
     "text": [
      "Help on built-in function divmod in module builtins:\n",
      "\n",
      "divmod(x, y, /)\n",
      "    Return the tuple (x//y, x%y).  Invariant: div*y + mod == x.\n",
      "\n"
     ]
    }
   ],
   "source": [
    "help(divmod)"
   ]
  },
  {
   "cell_type": "code",
   "execution_count": 450,
   "metadata": {},
   "outputs": [
    {
     "name": "stdout",
     "output_type": "stream",
     "text": [
      "POSITIONAL_ONLY\n",
      "POSITIONAL_ONLY\n"
     ]
    }
   ],
   "source": [
    "#.kind\n",
    "# .values()\n",
    "for params in inspect.signature(divmod).parameters.values():\n",
    "   print(params.kind)"
   ]
  },
  {
   "cell_type": "code",
   "execution_count": 448,
   "metadata": {},
   "outputs": [
    {
     "data": {
      "text/plain": [
       "odict_values([<Parameter \"x\">, <Parameter \"y\">])"
      ]
     },
     "execution_count": 448,
     "metadata": {},
     "output_type": "execute_result"
    }
   ],
   "source": [
    "inspect.signature(divmod).parameters.values()\n"
   ]
  },
  {
   "cell_type": "code",
   "execution_count": 443,
   "metadata": {},
   "outputs": [],
   "source": [
    "idct = {'key1':12,'key2':43}"
   ]
  },
  {
   "cell_type": "code",
   "execution_count": 444,
   "metadata": {},
   "outputs": [
    {
     "data": {
      "text/plain": [
       "dict_values([12, 43])"
      ]
     },
     "execution_count": 444,
     "metadata": {},
     "output_type": "execute_result"
    }
   ],
   "source": [
    "idct.values()"
   ]
  },
  {
   "cell_type": "markdown",
   "metadata": {},
   "source": [
    "## Callables\n",
    "\n",
    "`callable()`<br>\n",
    "Classes are generally not callable. but can become callable by implimenting `__call__` method.\n",
    "\n",
    "## Map, Filter, Zip and List comprehension alternative to map\n",
    "\n",
    "- A higher order function is a function that takes a function as a parameter and/or returns a function.<br>\n",
    "\n",
    "### `map(func, *iterables)`\n",
    "- takes a function and variable number of iterables as the parameter of function and returns an iterable containing the return values of function\n",
    "\n",
    "### `filter(func, iterable)`\n",
    "- takes a function and a dingle variable and return filtered iterable\n",
    "- filteration is done on the basis of func, if func returns false it will thoiw out the element else retain.\n",
    "if func is None, the it will filter based on truthy vALUE OF ELEMENTS\n",
    "\n",
    "### Zip(*iterables) - Not higher order\n",
    "- takes variable no. of iterables\n",
    "- It zips variable number of corresponding elements of every iterable into a single tuple, and returns all such tuples\n",
    "\n",
    "### List Comprehensions alternative to map\n",
    "- `[<expression> for <varName> in <iterable> ]`-> returns the list as per expression (in line for statement)"
   ]
  },
  {
   "cell_type": "code",
   "execution_count": 459,
   "metadata": {},
   "outputs": [],
   "source": [
    "l1= [1,2,3]\n",
    "l2 = [10,20,23]\n",
    "\n",
    "l_map = list(map(lambda x,y:x+y,l1,l2))\n",
    "l_comp = [x+y for x,y in zip(l1,l2)]"
   ]
  },
  {
   "cell_type": "code",
   "execution_count": 460,
   "metadata": {},
   "outputs": [
    {
     "name": "stdout",
     "output_type": "stream",
     "text": [
      "[11, 22, 26]\n",
      "[11, 22, 26]\n"
     ]
    }
   ],
   "source": [
    "print(l_comp,l_map,sep='\\n')"
   ]
  },
  {
   "cell_type": "markdown",
   "metadata": {},
   "source": [
    "## Reducing functions\n",
    "\n",
    "- These are functions that recombine an iterable recursively ending up with a single return value also called accumulators, aggregators, or folding functions<br>\n",
    "\n",
    "e.g. `max()`\n",
    "<br>\n",
    "from functools module function name reduced is available that takes a fn, and iterable and reduces the iterable to a single value based on the function.<br>\n",
    "\n",
    "it works with strings and set, dictionary aswel.<br>\n",
    "Few important reducing functions(takes iterable and return a single value)\n",
    "\n",
    "- `min`\n",
    "- `max`\n",
    "- `sum`\n",
    "- `any` - returns `True` if any one element is truthy\n",
    "- `all` - returns `True` only if all elements are truthy\n",
    "\n",
    "Reduce function also has an initialiser. It initialises the passing variable"
   ]
  },
  {
   "cell_type": "code",
   "execution_count": 461,
   "metadata": {},
   "outputs": [],
   "source": [
    "from functools import reduce"
   ]
  },
  {
   "cell_type": "code",
   "execution_count": 468,
   "metadata": {},
   "outputs": [
    {
     "data": {
      "text/plain": [
       "9"
      ]
     },
     "execution_count": 468,
     "metadata": {},
     "output_type": "execute_result"
    }
   ],
   "source": [
    "l = [1,2,2,4]\n",
    "reduce(lambda x,y: x + y,l)"
   ]
  },
  {
   "cell_type": "code",
   "execution_count": 472,
   "metadata": {},
   "outputs": [],
   "source": [
    "_max = lambda x,y: x if x>y else y\n",
    "def max_seq(seq):\n",
    "    result = 0\n",
    "    for x in seq:\n",
    "        result = _max(result, x)\n",
    "    return result"
   ]
  },
  {
   "cell_type": "code",
   "execution_count": 474,
   "metadata": {},
   "outputs": [
    {
     "data": {
      "text/plain": [
       "68"
      ]
     },
     "execution_count": 474,
     "metadata": {},
     "output_type": "execute_result"
    }
   ],
   "source": [
    "max_seq((1,2,3,4,5,68,7,8,9))"
   ]
  },
  {
   "cell_type": "markdown",
   "metadata": {},
   "source": [
    "## Partial Functions\n",
    "- functools has a function `partial(fn, *args)` -> it takes function and constant args, and assigns it to the positional args of fn to derive a partial function that requires lesser arguments"
   ]
  },
  {
   "cell_type": "markdown",
   "metadata": {},
   "source": [
    "- we can still override such partial functions arguments"
   ]
  },
  {
   "cell_type": "code",
   "execution_count": 484,
   "metadata": {},
   "outputs": [],
   "source": [
    "from functools import partial\n",
    "\n",
    "def pow(p,x,*,a,b):\n",
    "    print('it is kwarg',a,b)\n",
    "\n",
    "square = partial(pow, 2,b=9)\n",
    "cube = partial(pow,3,a=1,b=3)"
   ]
  },
  {
   "cell_type": "code",
   "execution_count": 485,
   "metadata": {},
   "outputs": [
    {
     "name": "stdout",
     "output_type": "stream",
     "text": [
      "it is kwarg 1 9\n"
     ]
    }
   ],
   "source": [
    "square(5,a=1)"
   ]
  },
  {
   "cell_type": "code",
   "execution_count": 486,
   "metadata": {},
   "outputs": [
    {
     "name": "stdout",
     "output_type": "stream",
     "text": [
      "it is kwarg 1 3\n"
     ]
    }
   ],
   "source": [
    "cube(3)"
   ]
  },
  {
   "cell_type": "code",
   "execution_count": 495,
   "metadata": {},
   "outputs": [
    {
     "data": {
      "text/plain": [
       "[(-3, -5), (0, 9), (1, 1), (1.8, 2.9), (2, 1), (7, 7)]"
      ]
     },
     "execution_count": 495,
     "metadata": {},
     "output_type": "execute_result"
    }
   ],
   "source": [
    "def dist(a,b):\n",
    "    return (a[0]-b[0])**2 + (a[1]-b[1])**2\n",
    "\n",
    "l = [(1,1),(-3,-5),(2,1),(1.8,2.9),(0,9),(7,7)]\n",
    "f = partial(dist, (0,0))\n",
    "sorted(l)"
   ]
  },
  {
   "cell_type": "code",
   "execution_count": 496,
   "metadata": {},
   "outputs": [
    {
     "data": {
      "text/plain": [
       "[(1, 1), (2, 1), (1.8, 2.9), (-3, -5), (0, 9), (7, 7)]"
      ]
     },
     "execution_count": 496,
     "metadata": {},
     "output_type": "execute_result"
    }
   ],
   "source": [
    "sorted(l,key=partial(dist, (0,0)))"
   ]
  },
  {
   "cell_type": "markdown",
   "metadata": {},
   "source": [
    "## The Operator Module\n",
    "\n",
    "- It is a module that has functions that uses operators on the arguments and returns a single value\n",
    "e.g.<br>\n",
    "- `add(a,b)`<t>       +\n",
    "- `mul(a,b)`   <t>    *\n",
    "- `pow(a,b)`   <t>    **\n",
    "- `mod(a,b)`   <t>    %\n",
    "- `floordiv(a,b)`  //\n",
    "- `le(a,b), gt(a,b) ....`\n",
    "- `concat(s1,s2)`"
   ]
  },
  {
   "cell_type": "code",
   "execution_count": 497,
   "metadata": {},
   "outputs": [],
   "source": [
    "s1 = 'dchbisfb'\n",
    "s2 = 'adkjhbdfo'\n",
    "\n",
    "from operator import concat\n",
    "\n",
    "s3 = concat(s1,s2)"
   ]
  },
  {
   "cell_type": "code",
   "execution_count": 498,
   "metadata": {},
   "outputs": [
    {
     "data": {
      "text/plain": [
       "'dchbisfbadkjhbdfo'"
      ]
     },
     "execution_count": 498,
     "metadata": {},
     "output_type": "execute_result"
    }
   ],
   "source": [
    "s3"
   ]
  },
  {
   "cell_type": "code",
   "execution_count": null,
   "metadata": {},
   "outputs": [],
   "source": []
  }
 ],
 "metadata": {
  "kernelspec": {
   "display_name": "Python 3",
   "language": "python",
   "name": "python3"
  },
  "language_info": {
   "codemirror_mode": {
    "name": "ipython",
    "version": 3
   },
   "file_extension": ".py",
   "mimetype": "text/x-python",
   "name": "python",
   "nbconvert_exporter": "python",
   "pygments_lexer": "ipython3",
   "version": "3.9.6"
  },
  "orig_nbformat": 4
 },
 "nbformat": 4,
 "nbformat_minor": 2
}
